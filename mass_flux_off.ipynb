{
 "cells": [
  {
   "cell_type": "code",
   "execution_count": null,
   "metadata": {},
   "outputs": [],
   "source": [
    "import mass_flux_off as experiment_runner\n",
    "from pathlib import Path\n",
    "import numpy as np\n",
    "import proplot as pplt\n",
    "import xarray as xr\n",
    "import pandas as pd\n",
    "from utils.files import OIFSPreprocessor, NEMOPreprocessor"
   ]
  },
  {
   "cell_type": "code",
   "execution_count": null,
   "metadata": {},
   "outputs": [],
   "source": [
    "oifs_preprocessor = OIFSPreprocessor(\n",
    "    experiment_runner.start_date, np.timedelta64(-7, \"h\")\n",
    ")\n",
    "nemo_preprocessor = NEMOPreprocessor(\n",
    "    experiment_runner.start_date, np.timedelta64(-7, \"h\")\n",
    ")"
   ]
  },
  {
   "cell_type": "code",
   "execution_count": null,
   "metadata": {},
   "outputs": [],
   "source": [
    "plotting_output_directory = Path(\"plots/mass_flux_off\")\n",
    "plotting_output_directory.mkdir(exist_ok=True)"
   ]
  },
  {
   "cell_type": "code",
   "execution_count": null,
   "metadata": {},
   "outputs": [],
   "source": [
    "naive_exp_ids = [\"MFN0\", \"MFN1\", \"MFN2\"]\n",
    "schwarz_exp_id = \"MFS0\"\n",
    "max_schwarz_iters = experiment_runner.max_iters\n",
    "setup = \"PAPA\""
   ]
  },
  {
   "cell_type": "code",
   "execution_count": null,
   "metadata": {},
   "outputs": [],
   "source": [
    "oifs_progvars_naive = [\n",
    "    xr.open_mfdataset(\n",
    "        f\"{setup}/{exp_id}/progvar.nc\", preprocess=oifs_preprocessor.preprocess\n",
    "    )\n",
    "    for exp_id in naive_exp_ids\n",
    "]\n",
    "\n",
    "oifs_progvar_cvg_swz = xr.open_mfdataset(\n",
    "    f\"{setup}/{schwarz_exp_id}_{max_schwarz_iters}/progvar.nc\",\n",
    "    preprocess=oifs_preprocessor.preprocess,\n",
    ")"
   ]
  },
  {
   "attachments": {},
   "cell_type": "markdown",
   "metadata": {},
   "source": [
    "# Vertical Temperature Profile at Two Points in Time"
   ]
  },
  {
   "cell_type": "code",
   "execution_count": null,
   "metadata": {},
   "outputs": [],
   "source": [
    "oifs_progvars = [*oifs_progvars_naive, oifs_progvar_cvg_swz]\n",
    "\n",
    "labels = [\"parallel\", \"atmosphere-first\", \"ocean-first\", \"converged SWR\"]\n",
    "colors = [\"m\", \"c\", \"y\", \"k\"]\n",
    "linestyles = [\"--\", \":\", \"-.\", \"-\"]\n",
    "\n",
    "fig, axs = pplt.subplots(nrows=1, ncols=4, width=\"70em\", height=\"30em\")\n",
    "# axs.format(suptitle=\"Vertical Atmospheric Temperature Profiles in Control Experiment\")\n",
    "axs.format(abc=\"a)\")\n",
    "timestamps = [\n",
    "    pd.Timestamp(\"2014-07-02 12:00\"),\n",
    "    pd.Timestamp(\"2014-07-03 00:00\"),\n",
    "    pd.Timestamp(\"2014-07-03 12:00\"),\n",
    "    pd.Timestamp(\"2014-07-04 12:00\"),\n",
    "]\n",
    "\n",
    "ax = axs[0]\n",
    "ims = []\n",
    "for i in range(len(oifs_progvars)):\n",
    "    label = labels[i]\n",
    "    color = colors[i]\n",
    "    linestyle = linestyles[i]\n",
    "    oifs_progvar = oifs_progvars[i]\n",
    "    oifs_progvar = oifs_progvar.assign_coords(\n",
    "        air_pressure=(\"nlev\", oifs_progvar.pressure_f[0].data / 100)\n",
    "    )\n",
    "    oifs_progvar = oifs_progvar.swap_dims({\"nlev\": \"air_pressure\"})\n",
    "    timestamp = timestamps[0]\n",
    "    t_for_plotting = oifs_progvar.t.sel(time=timestamp)[45:] - 273.15\n",
    "    im = ax.plot(\n",
    "        t_for_plotting,\n",
    "        t_for_plotting.air_pressure,\n",
    "        label=label,\n",
    "        color=color,\n",
    "        ls=linestyle,\n",
    "    )\n",
    "    ims.append(im)\n",
    "    ax.format(title=timestamp)\n",
    "\n",
    "ax = axs[1]\n",
    "for i in range(len(oifs_progvars)):\n",
    "    label = labels[i]\n",
    "    color = colors[i]\n",
    "    linestyle = linestyles[i]\n",
    "    oifs_progvar = oifs_progvars[i]\n",
    "    oifs_progvar = oifs_progvar.assign_coords(\n",
    "        air_pressure=(\"nlev\", oifs_progvar.pressure_f[0].data / 100)\n",
    "    )\n",
    "    oifs_progvar = oifs_progvar.swap_dims({\"nlev\": \"air_pressure\"})\n",
    "    timestamp = timestamps[1]\n",
    "    t_for_plotting = oifs_progvar.t.sel(time=timestamp)[45:] - 273.15\n",
    "    ax.plot(\n",
    "        t_for_plotting,\n",
    "        t_for_plotting.air_pressure,\n",
    "        label=label,\n",
    "        color=color,\n",
    "        ls=linestyle,\n",
    "    )\n",
    "    ax.format(title=timestamp)\n",
    "\n",
    "ax = axs[2]\n",
    "for i in range(len(oifs_progvars)):\n",
    "    label = labels[i]\n",
    "    color = colors[i]\n",
    "    linestyle = linestyles[i]\n",
    "    oifs_progvar = oifs_progvars[i]\n",
    "    oifs_progvar = oifs_progvar.assign_coords(\n",
    "        air_pressure=(\"nlev\", oifs_progvar.pressure_f[0].data / 100)\n",
    "    )\n",
    "    oifs_progvar = oifs_progvar.swap_dims({\"nlev\": \"air_pressure\"})\n",
    "    timestamp = timestamps[2]\n",
    "    t_for_plotting = oifs_progvar.t.sel(time=timestamp)[45:] - 273.15\n",
    "    ax.plot(\n",
    "        t_for_plotting,\n",
    "        t_for_plotting.air_pressure,\n",
    "        label=label,\n",
    "        color=color,\n",
    "        ls=linestyle,\n",
    "    )\n",
    "    ax.format(title=timestamp)\n",
    "\n",
    "ax = axs[3]\n",
    "for i in range(len(oifs_progvars)):\n",
    "    label = labels[i]\n",
    "    color = colors[i]\n",
    "    linestyle = linestyles[i]\n",
    "    oifs_progvar = oifs_progvars[i]\n",
    "    oifs_progvar = oifs_progvar.assign_coords(\n",
    "        air_pressure=(\"nlev\", oifs_progvar.pressure_f[0].data / 100)\n",
    "    )\n",
    "    oifs_progvar = oifs_progvar.swap_dims({\"nlev\": \"air_pressure\"})\n",
    "    timestamp = timestamps[3]\n",
    "    t_for_plotting = oifs_progvar.t.sel(time=timestamp)[45:] - 273.15\n",
    "    ax.plot(\n",
    "        t_for_plotting,\n",
    "        t_for_plotting.air_pressure,\n",
    "        label=label,\n",
    "        color=color,\n",
    "        ls=linestyle,\n",
    "    )\n",
    "    ax.format(title=timestamp)\n",
    "\n",
    "\n",
    "for ax in axs:\n",
    "    ax.format(\n",
    "        xlabel=\"Temperature [°C]\",\n",
    "        ylabel=\"Air Pressure [hPa]\",\n",
    "        yreverse=True,\n",
    "        xlim=[-2, 12],\n",
    "    )\n",
    "\n",
    "fig.legend(ims, frame=False, ncols=4, loc=\"b\")\n",
    "fig.savefig(plotting_output_directory / \"ce_air_temperature_stratification.pdf\")"
   ]
  }
 ],
 "metadata": {
  "kernelspec": {
   "display_name": "ecearth",
   "language": "python",
   "name": "python3"
  },
  "language_info": {
   "codemirror_mode": {
    "name": "ipython",
    "version": 3
   },
   "file_extension": ".py",
   "mimetype": "text/x-python",
   "name": "python",
   "nbconvert_exporter": "python",
   "pygments_lexer": "ipython3",
   "version": "3.9.16"
  },
  "vscode": {
   "interpreter": {
    "hash": "7be14c58e8eb3d6c770150f9ae99d58712f64c861ded680e7571663f6a6f0343"
   }
  }
 },
 "nbformat": 4,
 "nbformat_minor": 2
}
