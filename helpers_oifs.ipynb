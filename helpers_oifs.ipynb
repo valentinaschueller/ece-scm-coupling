{
 "cells": [
  {
   "cell_type": "code",
   "execution_count": null,
   "metadata": {},
   "outputs": [],
   "source": [
    "import helpers as hlp\n",
    "import iris\n",
    "import matplotlib.pyplot as plt\n",
    "import iris.plot as iplt\n",
    "import iris.quickplot as qplt"
   ]
  },
  {
   "cell_type": "code",
   "execution_count": null,
   "metadata": {},
   "outputs": [],
   "source": [
    "exp_id = \"OIFS\"\n",
    "setup = \"PAPA\"\n",
    "atm_file = f\"{setup}/{exp_id}/progvar.nc\""
   ]
  },
  {
   "cell_type": "code",
   "execution_count": null,
   "metadata": {},
   "outputs": [],
   "source": [
    "prog_var = hlp.load_cubes(atm_file)\n",
    "prog_var"
   ]
  },
  {
   "cell_type": "code",
   "execution_count": null,
   "metadata": {},
   "outputs": [],
   "source": [
    "atm_temp = hlp.load_cube(atm_file, \"Temperature\")\n",
    "atm_temp.convert_units(\"degC\")\n",
    "time_coord = atm_temp.coord(\"time\")\n",
    "time_coord.convert_units(\"h\")"
   ]
  },
  {
   "cell_type": "code",
   "execution_count": null,
   "metadata": {},
   "outputs": [],
   "source": [
    "fig, ax = plt.subplots()\n",
    "fig.set_size_inches(8, 4)\n",
    "qplt.contourf(\n",
    "    atm_temp, axes=ax, coords=[\"time\", \"Atmospheric Model Levels\"], cmap=\"bwr\"\n",
    ")\n",
    "ax.invert_yaxis()\n",
    "fig.savefig(\"plots/oifs1d_tmp_48.png\", dpi=300, bbox_inches=\"tight\")"
   ]
  },
  {
   "cell_type": "code",
   "execution_count": null,
   "metadata": {},
   "outputs": [],
   "source": [
    "fig, ax = plt.subplots()\n",
    "fig.set_size_inches(8, 4)\n",
    "qplt.plot(atm_temp[:, 59], axes=ax)\n",
    "fig.savefig(\"plots/oifs1d_sftmp_48.png\", dpi=300, bbox_inches=\"tight\")"
   ]
  },
  {
   "cell_type": "code",
   "execution_count": null,
   "metadata": {},
   "outputs": [],
   "source": [
    "fig, ax = plt.subplots()\n",
    "fig.set_size_inches(8, 4)\n",
    "cf = hlp.load_cube(atm_file, \"Cloud Fraction\")\n",
    "time_coord = cf.coord(\"time\")\n",
    "time_coord.convert_units(\"h\")\n",
    "qplt.contourf(cf, axes=ax, coords=[\"time\", \"Atmospheric Model Levels\"], cmap=\"binary\")\n",
    "ax.invert_yaxis()\n",
    "fig.savefig(\"plots/oifs1d_cf_48.png\", dpi=300, bbox_inches=\"tight\")"
   ]
  }
 ],
 "metadata": {
  "kernelspec": {
   "display_name": "Python 3.9.7 ('ecearth')",
   "language": "python",
   "name": "python3"
  },
  "language_info": {
   "codemirror_mode": {
    "name": "ipython",
    "version": 3
   },
   "file_extension": ".py",
   "mimetype": "text/x-python",
   "name": "python",
   "nbconvert_exporter": "python",
   "pygments_lexer": "ipython3",
   "version": "3.9.7"
  },
  "vscode": {
   "interpreter": {
    "hash": "7be14c58e8eb3d6c770150f9ae99d58712f64c861ded680e7571663f6a6f0343"
   }
  }
 },
 "nbformat": 4,
 "nbformat_minor": 2
}
