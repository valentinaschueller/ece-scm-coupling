{
 "cells": [
  {
   "cell_type": "code",
   "execution_count": null,
   "metadata": {},
   "outputs": [],
   "source": [
    "import xarray as xr\n",
    "import numpy as np\n",
    "from utils.files import OIFSPreprocessor, NEMOPreprocessor\n",
    "import convergence_checker as cc\n",
    "import control_experiment_1 as ce1\n",
    "import user_context as context"
   ]
  },
  {
   "cell_type": "code",
   "execution_count": null,
   "metadata": {},
   "outputs": [],
   "source": [
    "max_iters = ce1.max_iters\n",
    "start_date = ce1.start_date\n",
    "exp_id = \"C1SP\""
   ]
  },
  {
   "cell_type": "code",
   "execution_count": null,
   "metadata": {},
   "outputs": [],
   "source": [
    "found_output_dirs = list(context.output_dir.glob(f\"{exp_id}_*\"))\n",
    "if found_output_dirs == []:\n",
    "    ce1.run_parallel_schwarz_without_cleanup()\n",
    "    schwarz_dir_ref = (context.output_dir / exp_id).rename(\n",
    "        context.output_dir / f\"{exp_id}_{max_iters + 1}\"\n",
    "    )"
   ]
  },
  {
   "cell_type": "code",
   "execution_count": null,
   "metadata": {},
   "outputs": [],
   "source": [
    "conv_checker = cc.ConvergenceChecker()\n",
    "locals_final = []\n",
    "amplitudes_final = []\n",
    "for iter in range(2, max_iters + 1):\n",
    "    schwarz_dir_iter = context.output_dir / f\"{exp_id}_{iter}\"\n",
    "    local, amplitude = conv_checker.check_convergence(schwarz_dir_iter, schwarz_dir_ref)\n",
    "    locals_final.append(local)\n",
    "    amplitudes_final.append(amplitude)\n",
    "    print(f\"Iter {iter - 1}: {local=}, {amplitude=}\")"
   ]
  },
  {
   "cell_type": "code",
   "execution_count": null,
   "metadata": {},
   "outputs": [],
   "source": [
    "conv_checker = cc.ConvergenceChecker()\n",
    "locals_subs = []\n",
    "amplitudes_subs = []\n",
    "for iter in range(2, max_iters + 1):\n",
    "    schwarz_dir_iter = context.output_dir / f\"{exp_id}_{iter}\"\n",
    "    schwarz_dir_next_iter = context.output_dir / f\"{exp_id}_{iter + 1}\"\n",
    "    local, amplitude = conv_checker.check_convergence(\n",
    "        schwarz_dir_iter, schwarz_dir_next_iter\n",
    "    )\n",
    "    locals_subs.append(local)\n",
    "    amplitudes_subs.append(amplitude)\n",
    "    print(f\"Iter {iter - 1}: {local=}, {amplitude=}\")"
   ]
  },
  {
   "cell_type": "code",
   "execution_count": null,
   "metadata": {},
   "outputs": [],
   "source": [
    "nemo_preproc = NEMOPreprocessor(start_date)\n",
    "\n",
    "penultimate_schwarz_dir = context.output_dir / f\"{exp_id}_{max_iters - 1}\"\n",
    "final_schwarz_dir = context.output_dir / f\"{exp_id}_{max_iters}\"\n",
    "nemo_penultimate_file = next(penultimate_schwarz_dir.glob(\"*_grid_T.nc\"))\n",
    "nemo_final_file = next(final_schwarz_dir.glob(\"*_grid_T.nc\"))\n",
    "\n",
    "penultimate_output = xr.open_mfdataset(\n",
    "    nemo_penultimate_file, preprocess=nemo_preproc.preprocess\n",
    ")\n",
    "final_output = xr.open_mfdataset(nemo_final_file, preprocess=nemo_preproc.preprocess)\n",
    "\n",
    "np.max(np.abs(final_output.sosstsst - penultimate_output.sosstsst)).load()"
   ]
  },
  {
   "cell_type": "code",
   "execution_count": null,
   "metadata": {},
   "outputs": [],
   "source": [
    "oifs_preproc = OIFSPreprocessor(start_date)\n",
    "\n",
    "oifs_penultimate_file = penultimate_schwarz_dir / \"progvar.nc\"\n",
    "oifs_final_file = final_schwarz_dir / \"progvar.nc\"\n",
    "\n",
    "penultimate_output = xr.open_mfdataset(\n",
    "    oifs_penultimate_file, preprocess=oifs_preproc.preprocess\n",
    ")\n",
    "final_output = xr.open_mfdataset(oifs_final_file, preprocess=oifs_preproc.preprocess)\n",
    "\n",
    "np.max(np.abs(final_output.t - penultimate_output.t)).load()"
   ]
  }
 ],
 "metadata": {
  "kernelspec": {
   "display_name": "ecearth",
   "language": "python",
   "name": "python3"
  },
  "language_info": {
   "codemirror_mode": {
    "name": "ipython",
    "version": 3
   },
   "file_extension": ".py",
   "mimetype": "text/x-python",
   "name": "python",
   "nbconvert_exporter": "python",
   "pygments_lexer": "ipython3",
   "version": "3.9.16"
  },
  "vscode": {
   "interpreter": {
    "hash": "7be14c58e8eb3d6c770150f9ae99d58712f64c861ded680e7571663f6a6f0343"
   }
  }
 },
 "nbformat": 4,
 "nbformat_minor": 2
}
