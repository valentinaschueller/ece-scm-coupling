{
 "cells": [
  {
   "cell_type": "code",
   "execution_count": null,
   "metadata": {},
   "outputs": [],
   "source": [
    "import xarray as xr\n",
    "import numpy as np\n",
    "from utils.files import OIFSPreprocessor, NEMOPreprocessor, OASISPreprocessor\n",
    "import convergence_checker as cc\n",
    "import control_experiment_1 as ce1\n",
    "import user_context as context\n",
    "import proplot as pplt"
   ]
  },
  {
   "cell_type": "code",
   "execution_count": null,
   "metadata": {},
   "outputs": [],
   "source": [
    "max_iters = ce1.max_iters\n",
    "start_date = ce1.start_date\n",
    "exp_id = \"C1SP\"\n",
    "plotting_output_dir = context.plotting_dir / \"convergence_criteria\"\n",
    "plotting_output_dir.mkdir(exist_ok=True)"
   ]
  },
  {
   "cell_type": "code",
   "execution_count": null,
   "metadata": {},
   "outputs": [],
   "source": [
    "found_output_dirs = list(context.output_dir.glob(f\"{exp_id}_*\"))\n",
    "if found_output_dirs == []:\n",
    "    ce1.run_parallel_schwarz_without_cleanup()\n",
    "    schwarz_dir_ref = (context.output_dir / exp_id).rename(\n",
    "        context.output_dir / f\"{exp_id}_{max_iters + 1}\"\n",
    "    )\n",
    "else:\n",
    "    schwarz_dir_ref = context.output_dir / f\"{exp_id}_{max_iters + 1}\""
   ]
  },
  {
   "cell_type": "code",
   "execution_count": null,
   "metadata": {},
   "outputs": [],
   "source": [
    "conv_checker = cc.ConvergenceChecker()\n",
    "locals_final = []\n",
    "amplitudes_final = []\n",
    "for iter in range(2, max_iters + 1):\n",
    "    schwarz_dir_iter = context.output_dir / f\"{exp_id}_{iter}\"\n",
    "    local, amplitude = conv_checker.check_convergence(schwarz_dir_iter, schwarz_dir_ref)\n",
    "    locals_final.append(local)\n",
    "    amplitudes_final.append(amplitude)\n",
    "    print(f\"Iter {iter - 1}: {local=}, {amplitude=}\")"
   ]
  },
  {
   "cell_type": "code",
   "execution_count": null,
   "metadata": {},
   "outputs": [],
   "source": [
    "conv_checker = cc.ConvergenceChecker()\n",
    "locals_subs = []\n",
    "amplitudes_subs = []\n",
    "for iter in range(2, max_iters + 1):\n",
    "    schwarz_dir_iter = context.output_dir / f\"{exp_id}_{iter}\"\n",
    "    schwarz_dir_next_iter = context.output_dir / f\"{exp_id}_{iter + 1}\"\n",
    "    local, amplitude = conv_checker.check_convergence(\n",
    "        schwarz_dir_iter, schwarz_dir_next_iter\n",
    "    )\n",
    "    locals_subs.append(local)\n",
    "    amplitudes_subs.append(amplitude)\n",
    "    print(f\"Iter {iter - 1}: {local=}, {amplitude=}\")"
   ]
  },
  {
   "cell_type": "code",
   "execution_count": null,
   "metadata": {},
   "outputs": [],
   "source": [
    "nemo_preproc = NEMOPreprocessor(start_date)\n",
    "\n",
    "penultimate_schwarz_dir = context.output_dir / f\"{exp_id}_{max_iters - 7}\"\n",
    "final_schwarz_dir = context.output_dir / f\"{exp_id}_{max_iters}\"\n",
    "nemo_penultimate_file = next(penultimate_schwarz_dir.glob(\"*_grid_T.nc\"))\n",
    "nemo_final_file = next(final_schwarz_dir.glob(\"*_grid_T.nc\"))\n",
    "\n",
    "penultimate_output = xr.open_mfdataset(\n",
    "    nemo_penultimate_file, preprocess=nemo_preproc.preprocess\n",
    ")\n",
    "final_output = xr.open_mfdataset(nemo_final_file, preprocess=nemo_preproc.preprocess)\n",
    "\n",
    "np.max(np.abs(final_output.sosstsst - penultimate_output.sosstsst)).load()"
   ]
  },
  {
   "cell_type": "code",
   "execution_count": null,
   "metadata": {},
   "outputs": [],
   "source": [
    "oifs_preproc = OIFSPreprocessor(start_date)\n",
    "\n",
    "penultimate_schwarz_dir = context.output_dir / f\"{exp_id}_{max_iters - 8}\"\n",
    "oifs_penultimate_file = penultimate_schwarz_dir / \"progvar.nc\"\n",
    "oifs_final_file = final_schwarz_dir / \"progvar.nc\"\n",
    "\n",
    "penultimate_output = xr.open_mfdataset(\n",
    "    oifs_penultimate_file, preprocess=oifs_preproc.preprocess\n",
    ")\n",
    "final_output = xr.open_mfdataset(oifs_final_file, preprocess=oifs_preproc.preprocess)\n",
    "\n",
    "np.max(np.abs(final_output.t - penultimate_output.t)).load()"
   ]
  },
  {
   "cell_type": "code",
   "execution_count": null,
   "metadata": {},
   "outputs": [],
   "source": [
    "np.spacing(np.float32(280))"
   ]
  },
  {
   "cell_type": "code",
   "execution_count": null,
   "metadata": {},
   "outputs": [],
   "source": [
    "def create_conv_criterion_plot(conv_variable: str, conv_variable_name: str):\n",
    "    preprocessor = OASISPreprocessor()\n",
    "    coupling_file_reference = next(schwarz_dir_ref.glob(f\"{conv_variable}.nc\"))\n",
    "    reference = xr.open_mfdataset(\n",
    "        coupling_file_reference, preprocess=preprocessor.preprocess\n",
    "    )\n",
    "    reference = reference[conv_variable]\n",
    "    amplitude = reference.max() - reference.min()\n",
    "    max_local_threshold = 1e-3 * np.abs(reference).max()\n",
    "    min_local_threshold = 1e-3 * np.abs(reference).min()\n",
    "    amplitude_threshold = 1e-3 * np.abs(amplitude)\n",
    "    values_wrt_ref = []\n",
    "    values_wrt_next = []\n",
    "    schwarz_dir_iter = context.output_dir / f\"{exp_id}_2\"\n",
    "    for iter in range(2, max_iters + 1):\n",
    "        schwarz_dir_next_iter = context.output_dir / f\"{exp_id}_{iter + 1}\"\n",
    "\n",
    "        coupling_file_iterate = next(schwarz_dir_iter.glob(f\"{conv_variable}.nc\"))\n",
    "        coupling_file_next_iterate = next(\n",
    "            schwarz_dir_next_iter.glob(f\"{conv_variable}.nc\")\n",
    "        )\n",
    "\n",
    "        iterate = xr.open_mfdataset(\n",
    "            coupling_file_iterate, preprocess=preprocessor.preprocess\n",
    "        )\n",
    "        next_iterate = xr.open_mfdataset(\n",
    "            coupling_file_next_iterate, preprocess=preprocessor.preprocess\n",
    "        )\n",
    "\n",
    "        iterate = iterate[conv_variable]\n",
    "        next_iterate = next_iterate[conv_variable]\n",
    "\n",
    "        max_abs_diff = np.abs(reference - iterate).max()\n",
    "        values_wrt_ref.append(max_abs_diff.load().data[()])\n",
    "\n",
    "        max_abs_diff = np.abs(next_iterate - iterate).max()\n",
    "        values_wrt_next.append(max_abs_diff.load().data[()])\n",
    "\n",
    "        schwarz_dir_iter = schwarz_dir_next_iter\n",
    "\n",
    "    fig, ax = pplt.subplots(height=\"40em\", width=\"70em\")\n",
    "    xvalues = np.arange(1, max_iters)\n",
    "\n",
    "    ax.area(\n",
    "        xvalues,\n",
    "        len(xvalues) * [min_local_threshold],\n",
    "        len(xvalues) * [max_local_threshold],\n",
    "        color=\"green\",\n",
    "        alpha=0.3,\n",
    "    )\n",
    "    ax.semilogy(\n",
    "        xvalues,\n",
    "        values_wrt_ref,\n",
    "        label=r\"$|| c^{{20}} - c^{{k}} ||_\\infty$\",\n",
    "        marker=\".\",\n",
    "        ls=\"none\",\n",
    "        color=\"blue9\",\n",
    "    )\n",
    "    ax.semilogy(\n",
    "        xvalues,\n",
    "        values_wrt_next,\n",
    "        label=r\"$|| c^{{k+1}} - c^{{k}} ||_\\infty$\",\n",
    "        marker=\"1\",\n",
    "        ls=\"none\",\n",
    "        color=\"orange9\",\n",
    "    )\n",
    "    ax.semilogy(\n",
    "        xvalues,\n",
    "        len(xvalues) * [amplitude_threshold],\n",
    "        label=r\"$10^{{-3}} \\times A(c^{{20}})$\",\n",
    "        color=\"k\",\n",
    "        ls=\"--\",\n",
    "    )\n",
    "    ax.semilogy(\n",
    "        xvalues,\n",
    "        len(xvalues) * [min_local_threshold],\n",
    "        color=\"green\",\n",
    "        label=\"Value Range of $| c^{{20}} |$\",\n",
    "    )\n",
    "    ax.semilogy(xvalues, len(xvalues) * [max_local_threshold], color=\"green\")\n",
    "\n",
    "    ax.format(\n",
    "        yformatter=\"sci\",\n",
    "        xlabel=\"Iteration\",\n",
    "        ylabel=\"Maximum Absolute Difference\",\n",
    "        xminorticks=[0, *xvalues, max_iters],\n",
    "        title=f\"Convergence of {conv_variable_name}\",\n",
    "    )\n",
    "    ax.legend(loc=\"ll\", ncol=1, framealpha=1)\n",
    "    fig.savefig(plotting_output_dir / f\"convergence_{conv_variable}.pdf\")"
   ]
  },
  {
   "cell_type": "code",
   "execution_count": null,
   "metadata": {},
   "outputs": [],
   "source": [
    "coupling_vars_with_names = {\n",
    "    \"O_OTaux1\": \"Zonal Wind Stress\",\n",
    "    \"O_OTauy1\": \"Meridional Wind Stress\",\n",
    "    \"O_QsrMix\": \"Solar Heat Flux\",\n",
    "    \"O_QnsMix\": \"Nonsolar Heat Flux\",\n",
    "    \"OTotEvap\": \"Total Evaporation\",\n",
    "    \"OTotRain\": \"Total Rain\",\n",
    "    # \"OTotSnow\": \"Total Snow\",\n",
    "    \"A_SST\": \"Sea Surface Temperature\",\n",
    "}\n",
    "for variable, variable_name in coupling_vars_with_names.items():\n",
    "    create_conv_criterion_plot(variable, variable_name)"
   ]
  }
 ],
 "metadata": {
  "kernelspec": {
   "display_name": "ecearth",
   "language": "python",
   "name": "python3"
  },
  "language_info": {
   "codemirror_mode": {
    "name": "ipython",
    "version": 3
   },
   "file_extension": ".py",
   "mimetype": "text/x-python",
   "name": "python",
   "nbconvert_exporter": "python",
   "pygments_lexer": "ipython3",
   "version": "3.9.16"
  },
  "vscode": {
   "interpreter": {
    "hash": "7be14c58e8eb3d6c770150f9ae99d58712f64c861ded680e7571663f6a6f0343"
   }
  }
 },
 "nbformat": 4,
 "nbformat_minor": 2
}
