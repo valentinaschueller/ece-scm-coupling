{
 "cells": [
  {
   "cell_type": "code",
   "execution_count": null,
   "metadata": {},
   "outputs": [],
   "source": [
    "import helpers as hlp\n",
    "import plotting as aplt\n",
    "import iris\n",
    "import iris.quickplot as qplt\n",
    "import iris.plot as iplt\n",
    "import matplotlib.pyplot as plt\n",
    "import control_experiment_1 as experiment_runner\n",
    "from pathlib import Path"
   ]
  },
  {
   "cell_type": "code",
   "execution_count": null,
   "metadata": {},
   "outputs": [],
   "source": [
    "plotting_output_directory = Path(\"plots/control_experiment_1\")\n",
    "plotting_output_directory.mkdir(exist_ok=True)"
   ]
  },
  {
   "cell_type": "code",
   "execution_count": null,
   "metadata": {},
   "outputs": [],
   "source": [
    "naive_exp_ids = [\"C1N0\", \"C1N1\", \"C1N2\"]\n",
    "schwarz_exp_ids = [\"C1S0\", \"C1S1\", \"C1S2\"]\n",
    "max_schwarz_iters = experiment_runner.max_iters"
   ]
  },
  {
   "cell_type": "code",
   "execution_count": null,
   "metadata": {},
   "outputs": [],
   "source": [
    "def load_variables(setup: str, exp_ids: list):\n",
    "    oce_t_files = [f\"{setup}/{exp_id}/{exp_id[:4]}*_T.nc\" for exp_id in exp_ids]\n",
    "    atm_prog_files = [f\"{setup}/{exp_id}/progvar.nc\" for exp_id in exp_ids]\n",
    "    atm_diag_files = [f\"{setup}/{exp_id}/diagvar.nc\" for exp_id in exp_ids]\n",
    "    atm_temps = [\n",
    "        hlp.load_cube(atm_prog_file, \"Temperature\") for atm_prog_file in atm_prog_files\n",
    "    ]\n",
    "    oce_ssts = [\n",
    "        hlp.load_cube(oce_t_file, \"Sea Surface temperature\")\n",
    "        for oce_t_file in oce_t_files\n",
    "    ]\n",
    "    atm_ssws = [\n",
    "        hlp.load_cube(atm_diag_file, \"Surface SW Radiation\")\n",
    "        for atm_diag_file in atm_diag_files\n",
    "    ]\n",
    "    return atm_temps, oce_ssts, atm_ssws"
   ]
  },
  {
   "cell_type": "code",
   "execution_count": null,
   "metadata": {},
   "outputs": [],
   "source": [
    "setup = \"PAPA\"\n",
    "atm_temps, oce_ssts, atm_ssws = load_variables(setup, naive_exp_ids)\n",
    "\n",
    "colors = [\"m\", \"c\", \"y\"]\n",
    "labels = [\"parallel\", \"atm-first\", \"oce-first\"]\n",
    "alpha = 0.7\n",
    "linestyles = [\"-\", \"-\", \"-\"]\n",
    "\n",
    "fig, axs = plt.subplots(3, 1)\n",
    "fig.set_size_inches(15, 10)\n",
    "fig.suptitle(f\"{naive_exp_ids[0]}, {naive_exp_ids[1]}, {naive_exp_ids[2]}\", y=0.95, size=14)\n",
    "\n",
    "aplt.create_atm_temps_plot(axs[0], atm_temps, colors, alpha, labels, linestyles)\n",
    "aplt.create_oce_ssts_plot(axs[1], oce_ssts, colors, alpha, labels, linestyles)\n",
    "aplt.create_atm_ssws_plot(axs[2], atm_ssws, colors, alpha, labels, linestyles)\n",
    "fig.savefig(\n",
    "    plotting_output_directory / \"naive_coupling_schemes.pdf\",\n",
    "    bbox_inches=\"tight\",\n",
    ")"
   ]
  },
  {
   "cell_type": "code",
   "execution_count": null,
   "metadata": {},
   "outputs": [],
   "source": [
    "setup = \"PAPA\"\n",
    "final_iters = [f\"{exp_id}_{max_schwarz_iters}\" for exp_id in schwarz_exp_ids]\n",
    "atm_temps, oce_ssts, atm_ssws = load_variables(setup, final_iters)\n",
    "\n",
    "colors = [\"m\", \"c\", \"y\"]\n",
    "labels = [\"parallel\", \"atm-first\", \"oce-first\"]\n",
    "alpha = 0.7\n",
    "linestyles = [\"-\", \"-\", \"-\"]\n",
    "\n",
    "fig, axs = plt.subplots(3, 1)\n",
    "fig.set_size_inches(15, 10)\n",
    "fig.suptitle(f\"Final Schwarz Iterations for Control Experiment 1\", y=0.95, size=14)\n",
    "\n",
    "aplt.create_atm_temps_plot(axs[0], atm_temps, colors, alpha, labels, linestyles)\n",
    "aplt.create_oce_ssts_plot(axs[1], oce_ssts, colors, alpha, labels, linestyles)\n",
    "aplt.create_atm_ssws_plot(axs[2], atm_ssws, colors, alpha, labels, linestyles)\n",
    "fig.savefig(\n",
    "    plotting_output_directory / \"schwarz_coupling.pdf\",\n",
    "    bbox_inches=\"tight\",\n",
    ")"
   ]
  },
  {
   "attachments": {},
   "cell_type": "markdown",
   "metadata": {},
   "source": [
    "# Naive vs. Schwarz Solution"
   ]
  },
  {
   "cell_type": "code",
   "execution_count": null,
   "metadata": {},
   "outputs": [],
   "source": [
    "setup = \"PAPA\"\n",
    "atm_temps, oce_ssts, atm_ssws = load_variables(setup, [*naive_exp_ids, f\"{schwarz_exp_ids[0]}_{max_schwarz_iters}\"])\n",
    "\n",
    "colors = [\"m\", \"c\", \"y\", \"k\"]\n",
    "labels = [\"parallel\", \"atmosphere-first\", \"ocean-first\", \"converged SWR\"]\n",
    "alpha = 1\n",
    "linestyles = [\"--\", \":\", \"-.\", \"-\"]\n",
    "\n",
    "fig, axs = plt.subplots(3, 1)\n",
    "fig.set_size_inches(15, 10)\n",
    "fig.suptitle(f\"Non-iterative vs. Schwarz (CE1)\", y=0.95, size=14)\n",
    "\n",
    "aplt.create_atm_temps_plot(axs[0], atm_temps, colors, alpha, labels, linestyles)\n",
    "aplt.create_oce_ssts_plot(axs[1], oce_ssts, colors, alpha, labels, linestyles)\n",
    "aplt.create_atm_ssws_plot(axs[2], atm_ssws, colors, alpha, labels, linestyles)\n",
    "axs[0].legend(framealpha=1, fancybox=False)\n",
    "fig.savefig(\n",
    "    plotting_output_directory / \"coupling_comparison.pdf\",\n",
    "    bbox_inches=\"tight\",\n",
    ")"
   ]
  },
  {
   "attachments": {},
   "cell_type": "markdown",
   "metadata": {},
   "source": [
    "# Boundary layer type"
   ]
  },
  {
   "cell_type": "code",
   "execution_count": null,
   "metadata": {},
   "outputs": [],
   "source": [
    "atm_diag_files = [f\"PAPA/{exp_id}/diagvar.nc\" for exp_id in naive_exp_ids]\n",
    "atm_diag_files.append(f\"PAPA/{schwarz_exp_ids[0]}_{max_schwarz_iters}/diagvar.nc\")\n",
    "varname = \"pbl_type\"\n",
    "pbl_types = [hlp.load_cube(file, varname) for file in atm_diag_files]\n",
    "\n",
    "swr_pbl_type = pbl_types[-1]\n",
    "for pbl_type in pbl_types[:-1]:\n",
    "    iris.util.mask_cube(pbl_type, (pbl_type.data - swr_pbl_type.data == 0))\n",
    "\n",
    "colors = [\"m\", \"c\", \"y\", \"k\"]\n",
    "labels = [\"parallel\", \"atm-first\", \"oce-first\", \"converged SWR\"]\n",
    "alpha = 0.7\n",
    "markers = [\".\", \"1\", \"+\", \".\"]\n",
    "\n",
    "fig, ax = plt.subplots()\n",
    "fig.set_size_inches(10, 6)\n",
    "fig.suptitle(f\"Boundary Layer Type in Control Experiment 1\", y=0.95, size=14)\n",
    "\n",
    "for i in range(len(colors)):\n",
    "    pbl_type = pbl_types[i]\n",
    "    color = colors[i]\n",
    "    label = labels[i]\n",
    "    marker = markers[i]\n",
    "    time_coord = pbl_type.coord(\"time\")\n",
    "    new_time_coord = iris.coords.DimCoord(\n",
    "        time_coord.points,\n",
    "        standard_name=\"time\",\n",
    "        long_name=\"Time\",\n",
    "        var_name=\"time\",\n",
    "        units=\"seconds since 2014-07-01 00:00:00\",\n",
    "    )\n",
    "    # time shift: -7h from UTC to PDT\n",
    "    new_time_coord.points = new_time_coord.points - 7 * 3600\n",
    "    pbl_type.remove_coord(\"time\")\n",
    "    pbl_type.add_dim_coord(new_time_coord, 0)\n",
    "    iplt.plot(\n",
    "        pbl_type,\n",
    "        axes=ax,\n",
    "        color=color,\n",
    "        label=label,\n",
    "        alpha=alpha,\n",
    "        ls=\"none\",\n",
    "        marker=marker,\n",
    "    )\n",
    "ax.set_ylabel(\"Boundary layer type\")\n",
    "ax.set_xlabel(\"\")\n",
    "ax.set_yticks([0, 1, 2, 3])\n",
    "ax.set_title(r\"only shows points where BL type $\\neq$ SWR result\")\n",
    "ax.legend()\n",
    "fig.savefig(\n",
    "    plotting_output_directory / \"pbl_type_comparison.pdf\",\n",
    "    bbox_inches=\"tight\",\n",
    ")"
   ]
  },
  {
   "cell_type": "code",
   "execution_count": null,
   "metadata": {},
   "outputs": [],
   "source": [
    "atm_diag_files = [f\"PAPA/{exp_id}/diagvar.nc\" for exp_id in naive_exp_ids]\n",
    "atm_diag_files.append(f\"PAPA/{schwarz_exp_ids[0]}_{max_schwarz_iters}/diagvar.nc\")\n",
    "varname = \"Surface Sensible Heat Flux\"\n",
    "sh_fluxes = [hlp.load_cube(file, varname) for file in atm_diag_files]\n",
    "\n",
    "colors = [\"m\", \"c\", \"y\", \"k\"]\n",
    "labels = [\"parallel\", \"atm-first\", \"oce-first\", \"converged SWR\"]\n",
    "alpha = 0.7\n",
    "linestyles = [\"--\", \":\", \"-.\", \"-\"]\n",
    "\n",
    "fig, ax = plt.subplots()\n",
    "fig.set_size_inches(10, 6)\n",
    "fig.suptitle(f\"Surface SH Flux in Control Experiment 1\", y=0.95, size=14)\n",
    "\n",
    "for i in range(len(colors)):\n",
    "    sh_flux = sh_fluxes[i]\n",
    "    color = colors[i]\n",
    "    label = labels[i]\n",
    "    linestyle = linestyles[i]\n",
    "    time_coord = sh_flux.coord(\"time\")\n",
    "    new_time_coord = iris.coords.DimCoord(\n",
    "        time_coord.points,\n",
    "        standard_name=\"time\",\n",
    "        long_name=\"Time\",\n",
    "        var_name=\"time\",\n",
    "        units=\"seconds since 2014-07-01 00:00:00\",\n",
    "    )\n",
    "    # time shift: -7h from UTC to PDT\n",
    "    new_time_coord.points = new_time_coord.points - 7 * 3600\n",
    "    sh_flux.remove_coord(\"time\")\n",
    "    sh_flux.add_dim_coord(new_time_coord, 0)\n",
    "    iplt.plot(\n",
    "        sh_flux,\n",
    "        axes=ax,\n",
    "        color=color,\n",
    "        label=label,\n",
    "        alpha=alpha,\n",
    "        ls=linestyle,\n",
    "    )\n",
    "ax.set_ylabel(r\"Surface SH Flux $[W m^{-2}]$\")\n",
    "ax.set_xlabel(\"\")\n",
    "ax.set_title(\"\")\n",
    "ax.legend()\n",
    "ax.grid()\n",
    "fig.savefig(\n",
    "    plotting_output_directory / \"ssh_comparison.pdf\",\n",
    "    bbox_inches=\"tight\",\n",
    ")"
   ]
  }
 ],
 "metadata": {
  "kernelspec": {
   "display_name": "ecearth",
   "language": "python",
   "name": "python3"
  },
  "language_info": {
   "codemirror_mode": {
    "name": "ipython",
    "version": 3
   },
   "file_extension": ".py",
   "mimetype": "text/x-python",
   "name": "python",
   "nbconvert_exporter": "python",
   "pygments_lexer": "ipython3",
   "version": "3.9.7"
  },
  "vscode": {
   "interpreter": {
    "hash": "7be14c58e8eb3d6c770150f9ae99d58712f64c861ded680e7571663f6a6f0343"
   }
  }
 },
 "nbformat": 4,
 "nbformat_minor": 2
}
