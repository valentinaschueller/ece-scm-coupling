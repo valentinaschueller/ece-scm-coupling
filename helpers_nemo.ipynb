{
 "cells": [
  {
   "cell_type": "code",
   "execution_count": null,
   "metadata": {},
   "outputs": [],
   "source": [
    "import helpers as hlp\n",
    "import iris\n",
    "import matplotlib.pyplot as plt\n",
    "import iris.plot as iplt\n",
    "import iris.quickplot as qplt"
   ]
  },
  {
   "cell_type": "code",
   "execution_count": null,
   "metadata": {},
   "outputs": [],
   "source": [
    "exp_id = \"NEMO\"\n",
    "setup = \"PAPA\"\n",
    "oce_t_file = f\"{setup}/{exp_id}/{exp_id}*_T.nc\"\n",
    "oce_u_file = f\"{setup}/{exp_id}/{exp_id}*_U.nc\"\n",
    "oce_v_file = f\"{setup}/{exp_id}/{exp_id}*_V.nc\"\n",
    "oce_W_file = f\"{setup}/{exp_id}/{exp_id}*_W.nc\"\n",
    "ice_file = f\"{setup}/{exp_id}/{exp_id}*_icemod.nc\""
   ]
  },
  {
   "cell_type": "code",
   "execution_count": null,
   "metadata": {},
   "outputs": [],
   "source": [
    "nemo_t = hlp.load_cubes(oce_t_file)"
   ]
  },
  {
   "cell_type": "code",
   "execution_count": null,
   "metadata": {},
   "outputs": [],
   "source": [
    "sst_cube = hlp.load_cube(oce_t_file, \"Sea Surface temperature\")"
   ]
  },
  {
   "cell_type": "code",
   "execution_count": null,
   "metadata": {},
   "outputs": [],
   "source": [
    "sst_cube"
   ]
  },
  {
   "cell_type": "code",
   "execution_count": null,
   "metadata": {},
   "outputs": [],
   "source": [
    "fig, ax = plt.subplots()\n",
    "fig.set_size_inches(8, 4)\n",
    "qplt.plot(sst_cube[:, 1, 1], axes=ax)\n",
    "fig.savefig(\"plots/nemo1d_sst_48.png\", dpi=300, bbox_inches=\"tight\")"
   ]
  }
 ],
 "metadata": {
  "kernelspec": {
   "display_name": "Python 3.9.7 ('ecearth')",
   "language": "python",
   "name": "python3"
  },
  "language_info": {
   "codemirror_mode": {
    "name": "ipython",
    "version": 3
   },
   "file_extension": ".py",
   "mimetype": "text/x-python",
   "name": "python",
   "nbconvert_exporter": "python",
   "pygments_lexer": "ipython3",
   "version": "3.9.7"
  },
  "vscode": {
   "interpreter": {
    "hash": "7be14c58e8eb3d6c770150f9ae99d58712f64c861ded680e7571663f6a6f0343"
   }
  }
 },
 "nbformat": 4,
 "nbformat_minor": 2
}
