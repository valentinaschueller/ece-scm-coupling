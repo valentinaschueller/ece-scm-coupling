{
 "cells": [
  {
   "cell_type": "code",
   "execution_count": null,
   "metadata": {},
   "outputs": [],
   "source": [
    "import helpers as hlp\n",
    "import iris\n",
    "import matplotlib.pyplot as plt\n",
    "import iris.plot as iplt\n",
    "import iris.quickplot as qplt\n",
    "import numpy as np"
   ]
  },
  {
   "cell_type": "code",
   "execution_count": null,
   "metadata": {},
   "outputs": [],
   "source": [
    "exp_id = \"OCEF\"\n",
    "setup = \"PAPA\"\n",
    "oce_t_file = f\"{setup}/{exp_id}/{exp_id}*_T.nc\"\n",
    "oce_u_file = f\"{setup}/{exp_id}/{exp_id}*_U.nc\"\n",
    "oce_v_file = f\"{setup}/{exp_id}/{exp_id}*_V.nc\"\n",
    "oce_W_file = f\"{setup}/{exp_id}/{exp_id}*_W.nc\"\n",
    "ice_file = f\"{setup}/{exp_id}/{exp_id}*_icemod.nc\"\n",
    "atm_prog_file = f\"{setup}/{exp_id}/progvar.nc\"\n",
    "atm_diag_file = f\"{setup}/{exp_id}/diagvar.nc\"\n",
    "atm_diag2_file = f\"{setup}/{exp_id}/diagvar2.nc\"\n",
    "oasis_a2o_file = f\"{setup}/{exp_id}/rmp_ASCM_to_OC1D.nc\"\n",
    "oasis_o2a_file = f\"{setup}/{exp_id}/rmp_OC1D_to_ASCM.nc\""
   ]
  },
  {
   "cell_type": "code",
   "execution_count": null,
   "metadata": {},
   "outputs": [],
   "source": [
    "oasis_a2o = hlp.load_cubes(oasis_a2o_file)\n",
    "oasis_o2a = hlp.load_cubes(oasis_o2a_file)"
   ]
  },
  {
   "cell_type": "code",
   "execution_count": null,
   "metadata": {},
   "outputs": [],
   "source": [
    "oasis_o2a[2].data"
   ]
  },
  {
   "cell_type": "code",
   "execution_count": null,
   "metadata": {},
   "outputs": [],
   "source": [
    "nemo_t = hlp.load_cubes(oce_t_file)\n",
    "atm_prog = hlp.load_cubes(atm_prog_file)\n",
    "atm_diag = hlp.load_cubes(atm_diag_file)\n",
    "atm_diag2 = hlp.load_cubes(atm_diag2_file)"
   ]
  },
  {
   "cell_type": "code",
   "execution_count": null,
   "metadata": {},
   "outputs": [],
   "source": [
    "fig, axs = plt.subplots(3, 1)\n",
    "fig.set_size_inches(15, 10)\n",
    "\n",
    "ax_2t = axs[0]\n",
    "varname = \"Temperature 2m\"\n",
    "atm_2t = hlp.load_cube(atm_diag_file, varname)\n",
    "atm_2t.convert_units(\"degC\")\n",
    "time_coord = atm_2t.coord(\"time\")\n",
    "time_coord.convert_units(\"d\")\n",
    "qplt.plot(atm_2t, axes=ax_2t, color=\"k\")\n",
    "ax_2t.set_ybound(10, 15)\n",
    "ax_2t.set_ylabel(\"T2m [°C]\")\n",
    "ax_2t.set_yticks(list(range(10, 16)))\n",
    "ax_2t.set_xlabel(\"\")\n",
    "ax_2t.grid()\n",
    "ax_2t.set_title(\"\")\n",
    "\n",
    "ax_sst = axs[1]\n",
    "varname = \"Sea Surface temperature\"\n",
    "oce_sst = hlp.load_cube(oce_t_file, varname)\n",
    "qplt.plot(oce_sst[:, 1, 1], axes=ax_sst, color=\"k\")\n",
    "ax_sst.set_ybound(10, 15)\n",
    "ax_sst.set_ylabel(\"SST [°C]\")\n",
    "ax_sst.set_yticks(list(range(10, 16)))\n",
    "ax_sst.set_xlabel(\"\")\n",
    "ax_sst.grid()\n",
    "ax_sst.set_title(\"\")\n",
    "\n",
    "# Plot surface SW and LW radiation into the same axis\n",
    "Nticks = 7\n",
    "\n",
    "# SW Radiation\n",
    "lcolor = \"grey\"\n",
    "ax_sw = axs[2]\n",
    "varname = \"Surface SW Radiation\"\n",
    "atm_sfc_swr = hlp.load_cube(atm_diag_file, varname)\n",
    "time_coord = atm_sfc_swr.coord(\"time\")\n",
    "time_coord.convert_units(\"d\")\n",
    "qplt.plot(atm_sfc_swr, axes=ax_sw, color=lcolor, label=\"SW\")\n",
    "ax_sw.set_title(\"\")\n",
    "ax_sw.set_xlabel(\"\")\n",
    "ax_sw.set_ylabel(r\"Sfc radiation [$W m^{-2}$]\")\n",
    "ax_sw.set_ybound(-400, 800)\n",
    "lines_sw, labels_sw = ax_sw.get_legend_handles_labels()\n",
    "ax_sw.set_yticks(np.linspace(ax_sw.get_ybound()[0], ax_sw.get_ybound()[1], Nticks))\n",
    "ax_sw.tick_params(axis=\"y\", colors=lcolor)\n",
    "\n",
    "# LW Radiation\n",
    "lcolor = \"k\"\n",
    "ax_lw = ax_sw.twinx()\n",
    "varname = \"Surface LW Radiation\"\n",
    "atm_sfc_lwr = hlp.load_cube(atm_diag_file, varname)\n",
    "time_coord = atm_sfc_lwr.coord(\"time\")\n",
    "time_coord.convert_units(\"d\")\n",
    "qplt.plot(atm_sfc_lwr, axes=ax_lw, color=lcolor, label=\"LW\")\n",
    "ax_lw.set_title(\"\")\n",
    "ax_lw.set_xlabel(\"\")\n",
    "ax_lw.set_ylabel(\"\")\n",
    "ax_lw.set_ybound(-200, 400)\n",
    "lines_lw, labels_lw = ax_lw.get_legend_handles_labels()\n",
    "ax_lw.set_yticks(np.linspace(ax_lw.get_ybound()[0], ax_lw.get_ybound()[1], Nticks))\n",
    "\n",
    "# align ticks and turn on grid\n",
    "ax_sw.grid()\n",
    "ax_sw.legend(lines_sw + lines_lw, labels_sw + labels_lw)\n",
    "\n",
    "fig.savefig(f\"plots/figure7_reproduction_{setup}_{exp_id}.pdf\", bbox_inches=\"tight\")"
   ]
  },
  {
   "cell_type": "code",
   "execution_count": null,
   "metadata": {},
   "outputs": [],
   "source": [
    "varname = \"Sea Surface temperature\"\n",
    "sst = hlp.load_cube(oce_t_file, varname)\n",
    "# time_coord = sst.coord('time')\n",
    "# time_coord.convert_units('days since 2014-07-14 00:00:00')\n",
    "\n",
    "fig, ax = plt.subplots()\n",
    "fig.set_size_inches(8, 4)\n",
    "qplt.plot(sst[:, 1, 1], axes=ax)\n",
    "fig.savefig(f\"plots/{exp_id}_nemo_sst_48.png\", dpi=300, bbox_inches=\"tight\")"
   ]
  },
  {
   "cell_type": "code",
   "execution_count": null,
   "metadata": {},
   "outputs": [],
   "source": [
    "atm_temp = hlp.load_cube(atm_diag_file, \"Temperature 2m\")\n",
    "\n",
    "atm_temp.convert_units(\"degC\")\n",
    "time_coord = atm_temp.coord(\"time\")\n",
    "time_coord.convert_units(\"d\")\n",
    "\n",
    "fig, ax = plt.subplots()\n",
    "fig.set_size_inches(8, 4)\n",
    "qplt.plot(atm_temp, axes=ax)\n",
    "fig.savefig(f\"plots/{exp_id}_oifs_2t_48.png\", dpi=300, bbox_inches=\"tight\")"
   ]
  },
  {
   "cell_type": "code",
   "execution_count": null,
   "metadata": {},
   "outputs": [],
   "source": [
    "atm_diag = hlp.load_cubes(atm_diag_file)\n",
    "atm_diag"
   ]
  },
  {
   "cell_type": "code",
   "execution_count": null,
   "metadata": {},
   "outputs": [],
   "source": [
    "sdlw = hlp.load_cube(atm_diag_file, \"Surface Downward LW Radiation\")\n",
    "sdsw = hlp.load_cube(atm_diag_file, \"Surface Downward SW Radiation\")\n",
    "\n",
    "# atm_temp.convert_units('degC')\n",
    "time_coord = sdlw.coord(\"time\")\n",
    "time_coord.convert_units(\"h\")\n",
    "time_coord = sdsw.coord(\"time\")\n",
    "time_coord.convert_units(\"h\")\n",
    "fig, ax = plt.subplots()\n",
    "fig.set_size_inches(8, 4)\n",
    "qplt.plot(sdlw, axes=ax, label=\"LW\")\n",
    "qplt.plot(sdsw, axes=ax, label=\"SW\")\n",
    "ax.legend()\n",
    "ax.set_title(\"Surface Downward Radiation\")\n",
    "fig.savefig(f\"plots/{exp_id}_oifs_sdr.png\", dpi=300, bbox_inches=\"tight\")"
   ]
  },
  {
   "cell_type": "code",
   "execution_count": null,
   "metadata": {},
   "outputs": [],
   "source": [
    "p = hlp.load_cube(atm_diag_file, \"Height - full levels\")\n",
    "fig, ax = plt.subplots()\n",
    "fig.set_size_inches(8, 4)\n",
    "# p.convert_units(\"hPa\")\n",
    "time_coord = p.coord(\"time\")\n",
    "time_coord.convert_units(\"d\")\n",
    "qplt.contourf(\n",
    "    p, axes=ax, coords=[\"time\", \"Atmospheric Model Levels\"], cmap=\"Greys\", levels=10\n",
    ")\n",
    "ax.invert_yaxis()\n",
    "fig.savefig(f\"plots/{exp_id}_oifs_h.jpg\", dpi=300, bbox_inches=\"tight\")"
   ]
  },
  {
   "cell_type": "code",
   "execution_count": null,
   "metadata": {},
   "outputs": [],
   "source": [
    "p = hlp.load_cube(atm_diag_file, \"Height - full levels\")\n",
    "fig, ax = plt.subplots()\n",
    "fig.set_size_inches(8, 4)\n",
    "# p.convert_units(\"hPa\")\n",
    "time_coord = p.coord(\"time\")\n",
    "time_coord.convert_units(\"d\")\n",
    "qplt.contourf(\n",
    "    p, axes=ax, coords=[\"time\", \"Atmospheric Model Levels\"], cmap=\"Greys\", levels=10\n",
    ")\n",
    "ax.invert_yaxis()\n",
    "fig.savefig(f\"plots/{exp_id}_oifs_h.jpg\", dpi=300, bbox_inches=\"tight\")"
   ]
  }
 ],
 "metadata": {
  "kernelspec": {
   "display_name": "Python 3.9.7 ('ecearth')",
   "language": "python",
   "name": "python3"
  },
  "language_info": {
   "codemirror_mode": {
    "name": "ipython",
    "version": 3
   },
   "file_extension": ".py",
   "mimetype": "text/x-python",
   "name": "python",
   "nbconvert_exporter": "python",
   "pygments_lexer": "ipython3",
   "version": "3.9.7 | packaged by conda-forge | (default, Sep  2 2021, 17:58:46) \n[Clang 11.1.0 ]"
  },
  "vscode": {
   "interpreter": {
    "hash": "7be14c58e8eb3d6c770150f9ae99d58712f64c861ded680e7571663f6a6f0343"
   }
  }
 },
 "nbformat": 4,
 "nbformat_minor": 2
}
