{
 "cells": [
  {
   "cell_type": "code",
   "execution_count": null,
   "metadata": {},
   "outputs": [],
   "source": [
    "import xarray as xr\n",
    "import proplot as pplt\n",
    "import pandas as pd\n",
    "import small_ensemble as se\n",
    "import ruamel.yaml as yaml\n",
    "from utils.files import OIFSEnsemblePreprocessor, NEMOEnsemblePreprocessor\n",
    "import numpy as np\n",
    "import user_context as context"
   ]
  },
  {
   "cell_type": "code",
   "execution_count": null,
   "metadata": {},
   "outputs": [],
   "source": [
    "oifs_preprocessor = OIFSEnsemblePreprocessor(pd.Timedelta(-7, \"h\"))\n",
    "nemo_preprocessor = NEMOEnsemblePreprocessor(np.timedelta64(-7, \"h\"))"
   ]
  },
  {
   "cell_type": "code",
   "execution_count": null,
   "metadata": {},
   "outputs": [],
   "source": [
    "plotting_dir = context.plotting_dir / \"ensemble\"\n",
    "plotting_dir.mkdir(exist_ok=True)"
   ]
  },
  {
   "cell_type": "code",
   "execution_count": null,
   "metadata": {},
   "outputs": [],
   "source": [
    "max_iters = se.max_iters\n",
    "experiment_directories = []\n",
    "for date_dir in se.ensemble_directory.glob(\"*\"):\n",
    "    for init_dir in date_dir.glob(\"*\"):\n",
    "        for experiment_dir in init_dir.glob(\"*\"):\n",
    "            experiment_directories.append(experiment_dir)"
   ]
  },
  {
   "cell_type": "code",
   "execution_count": null,
   "metadata": {},
   "outputs": [],
   "source": [
    "progvars_ensemble = [\n",
    "    experiment_dir / \"progvar.nc\" for experiment_dir in experiment_directories\n",
    "]\n",
    "diagvars_ensemble = [\n",
    "    experiment_dir / \"diagvar.nc\" for experiment_dir in experiment_directories\n",
    "]\n",
    "nemo_t_ensemble = [\n",
    "    next(experiment_dir.glob(\"*_grid_T.nc\"))\n",
    "    for experiment_dir in experiment_directories\n",
    "]\n",
    "setup_dicts = []\n",
    "for experiment_dir in experiment_directories:\n",
    "    with open(experiment_dir / \"setup_dict.yaml\") as yaml_file:\n",
    "        setup_dicts.append(yaml.load(yaml_file, Loader=yaml.Loader))"
   ]
  },
  {
   "cell_type": "code",
   "execution_count": null,
   "metadata": {},
   "outputs": [],
   "source": [
    "prog_ensemble = xr.open_mfdataset(\n",
    "    progvars_ensemble, preprocess=oifs_preprocessor.preprocess_ensemble\n",
    ")\n",
    "diag_ensemble = xr.open_mfdataset(\n",
    "    diagvars_ensemble, preprocess=oifs_preprocessor.preprocess_ensemble\n",
    ")\n",
    "nemo_ensemble = xr.open_mfdataset(\n",
    "    nemo_t_ensemble, preprocess=nemo_preprocessor.preprocess_ensemble\n",
    ")"
   ]
  },
  {
   "cell_type": "code",
   "execution_count": null,
   "metadata": {},
   "outputs": [],
   "source": [
    "colors = [\"m\", \"c\", \"y\", \"k\"]\n",
    "cpl_schemes = [\"parallel\", \"atm-first\", \"oce-first\", \"converged SWR\"]\n",
    "labels = [\"parallel\", \"atmosphere-first\", \"ocean-first\", \"converged SWR\"]\n",
    "markers = [\".\", \"x\", \"1\", \"+\"]"
   ]
  },
  {
   "attachments": {},
   "cell_type": "markdown",
   "metadata": {},
   "source": [
    "# OpenIFS\n",
    "\n",
    "## Prognostic variables\n",
    "\n",
    "Look at 10m $T, u, v, q$"
   ]
  },
  {
   "cell_type": "code",
   "execution_count": null,
   "metadata": {},
   "outputs": [],
   "source": [
    "# start_dates = prog_ensemble.start_date\n",
    "# fig, ax = pplt.subplots(figwidth=\"80em\", figheight=\"40em\")\n",
    "# ls = [\":\", \"-.\", \"--\", \"-\"]\n",
    "# for index, coupling_scheme in enumerate([\"parallel\", \"atm-first\", \"oce-first\", \"converged SWR\"]):\n",
    "#     for initial_condition in [\"par\", \"atm\", \"oce\"]:\n",
    "#         t10m = prog_ensemble.sel(\n",
    "#             coupling_scheme=coupling_scheme,\n",
    "#             initial_condition=initial_condition,\n",
    "#             start_date=start_dates[0],\n",
    "#         ).t.isel(nlev=60)\n",
    "#         t10m = t10m.assign_coords({\"time\": t10m.time.data + t10m.start_date.data})\n",
    "#         ax.plot(t10m, label=f\"{coupling_scheme}, {initial_condition}\", ls=ls[index])\n",
    "# ax.legend()"
   ]
  },
  {
   "cell_type": "code",
   "execution_count": null,
   "metadata": {},
   "outputs": [],
   "source": [
    "progvar_forecast_mean = prog_ensemble.sel(time=pd.Timedelta(2, \"D\")).mean(\n",
    "    \"initial_condition\"\n",
    ")\n",
    "progvar_forecast_mean = progvar_forecast_mean.assign_coords(\n",
    "    start_date=progvar_forecast_mean.start_date + progvar_forecast_mean.time\n",
    ")\n",
    "progvar_forecast_mean = progvar_forecast_mean.rename(start_date=\"end_date\")"
   ]
  },
  {
   "cell_type": "code",
   "execution_count": null,
   "metadata": {},
   "outputs": [],
   "source": [
    "progvar_forecast_std = prog_ensemble.sel(time=pd.Timedelta(2, \"D\")).std(\n",
    "    \"initial_condition\"\n",
    ")\n",
    "progvar_forecast_std = progvar_forecast_std.assign_coords(\n",
    "    start_date=progvar_forecast_std.start_date + progvar_forecast_std.time\n",
    ")\n",
    "progvar_forecast_std = progvar_forecast_std.rename(start_date=\"end_date\")"
   ]
  },
  {
   "attachments": {},
   "cell_type": "markdown",
   "metadata": {},
   "source": [
    "### Temperature"
   ]
  },
  {
   "cell_type": "code",
   "execution_count": null,
   "metadata": {},
   "outputs": [],
   "source": [
    "fig, ax = pplt.subplots(width=\"50em\", height=\"30em\")\n",
    "\n",
    "for i in range(len(colors)):\n",
    "    color = colors[i]\n",
    "    cpl_scheme = cpl_schemes[i]\n",
    "    marker = markers[i]\n",
    "    label = labels[i]\n",
    "    ax.scatter(\n",
    "        progvar_forecast_mean.t.sel(nlev=60, coupling_scheme=cpl_scheme),\n",
    "        marker=marker,\n",
    "        label=label,\n",
    "        color=color,\n",
    "    )\n",
    "ax.format(\n",
    "    title=\"10m Temperature after 2 Days\",\n",
    "    ylabel=\"Temperature [K]\",\n",
    "    xlabel=\"Time of Forecast\",\n",
    ")\n",
    "ax.legend(ncols=1, framealpha=1)\n",
    "fig.savefig(plotting_dir / \"mean_10t.pdf\")"
   ]
  },
  {
   "cell_type": "code",
   "execution_count": null,
   "metadata": {},
   "outputs": [],
   "source": [
    "fig, ax = pplt.subplots(width=\"50em\", height=\"30em\")\n",
    "\n",
    "for i in range(len(colors)):\n",
    "    color = colors[i]\n",
    "    cpl_scheme = cpl_schemes[i]\n",
    "    marker = markers[i]\n",
    "    label = labels[i]\n",
    "    ax.scatter(\n",
    "        progvar_forecast_std.t.sel(nlev=60, coupling_scheme=cpl_scheme),\n",
    "        marker=marker,\n",
    "        label=label,\n",
    "        color=color,\n",
    "    )\n",
    "ax.format(\n",
    "    title=\"Stddev of 10m Temperature after 2 Days\",\n",
    "    ylabel=\"Temperature [K]\",\n",
    "    xlabel=\"Time of Forecast\",\n",
    "    yscale=\"log\",\n",
    "    yformatter=\"sci\",\n",
    ")\n",
    "ax.legend(ncols=1, framealpha=1)\n",
    "fig.savefig(plotting_dir / \"std_10t.pdf\")"
   ]
  },
  {
   "attachments": {},
   "cell_type": "markdown",
   "metadata": {},
   "source": [
    "### Wind"
   ]
  },
  {
   "cell_type": "code",
   "execution_count": null,
   "metadata": {},
   "outputs": [],
   "source": [
    "fig, ax = pplt.subplots(width=\"50em\", height=\"30em\")\n",
    "\n",
    "\n",
    "for i in range(len(colors)):\n",
    "    color = colors[i]\n",
    "    cpl_scheme = cpl_schemes[i]\n",
    "    marker = markers[i]\n",
    "    label = labels[i]\n",
    "    ax.scatter(\n",
    "        progvar_forecast_mean.u.sel(nlev=60, coupling_scheme=cpl_scheme),\n",
    "        marker=marker,\n",
    "        label=label,\n",
    "        color=color,\n",
    "    )\n",
    "ax.format(\n",
    "    title=\"10m Zonal Wind after 2 Days\",\n",
    "    ylabel=\"Wind Speed [m/s]\",\n",
    "    xlabel=\"Time of Forecast\",\n",
    ")\n",
    "ax.legend(ncols=1, framealpha=1)\n",
    "fig.savefig(plotting_dir / \"mean_10u.pdf\")"
   ]
  },
  {
   "cell_type": "code",
   "execution_count": null,
   "metadata": {},
   "outputs": [],
   "source": [
    "fig, ax = pplt.subplots(width=\"50em\", height=\"30em\")\n",
    "\n",
    "for i in range(len(colors)):\n",
    "    color = colors[i]\n",
    "    cpl_scheme = cpl_schemes[i]\n",
    "    marker = markers[i]\n",
    "    label = labels[i]\n",
    "    ax.scatter(\n",
    "        progvar_forecast_mean.v.sel(nlev=60, coupling_scheme=cpl_scheme),\n",
    "        marker=marker,\n",
    "        label=label,\n",
    "        color=color,\n",
    "    )\n",
    "ax.format(\n",
    "    title=\"10m Meridional Wind after 2 Days\",\n",
    "    ylabel=\"Wind Speed [m/s]\",\n",
    "    xlabel=\"Time of Forecast\",\n",
    ")\n",
    "ax.legend(ncols=1, framealpha=1)\n",
    "fig.savefig(plotting_dir / \"mean_10v.pdf\")"
   ]
  },
  {
   "attachments": {},
   "cell_type": "markdown",
   "metadata": {},
   "source": [
    "### Humidity"
   ]
  },
  {
   "cell_type": "code",
   "execution_count": null,
   "metadata": {},
   "outputs": [],
   "source": [
    "fig, ax = pplt.subplots(width=\"50em\", height=\"30em\")\n",
    "\n",
    "for i in range(len(colors)):\n",
    "    color = colors[i]\n",
    "    cpl_scheme = cpl_schemes[i]\n",
    "    marker = markers[i]\n",
    "    label = labels[i]\n",
    "    ax.scatter(\n",
    "        progvar_forecast_mean.q.sel(nlev=60, coupling_scheme=cpl_scheme),\n",
    "        marker=marker,\n",
    "        label=label,\n",
    "        color=color,\n",
    "    )\n",
    "ax.format(\n",
    "    title=\"10m Humidity after 2 Days\",\n",
    "    ylabel=\"Wind Speed [m/s]\",\n",
    "    xlabel=\"Time of Forecast\",\n",
    ")\n",
    "ax.legend(ncols=1, framealpha=1)\n",
    "fig.savefig(plotting_dir / \"mean_10q.pdf\")"
   ]
  },
  {
   "cell_type": "code",
   "execution_count": null,
   "metadata": {},
   "outputs": [],
   "source": [
    "fig, ax = pplt.subplots(width=\"50em\", height=\"30em\")\n",
    "\n",
    "for i in range(len(colors)):\n",
    "    color = colors[i]\n",
    "    cpl_scheme = cpl_schemes[i]\n",
    "    marker = markers[i]\n",
    "    label = labels[i]\n",
    "    ax.scatter(\n",
    "        progvar_forecast_std.t.sel(nlev=60, coupling_scheme=cpl_scheme),\n",
    "        marker=marker,\n",
    "        label=label,\n",
    "        color=color,\n",
    "    )\n",
    "ax.format(\n",
    "    title=\"Stddev of 10m Humidity after 2 Days\",\n",
    "    ylabel=\"Temperature [K]\",\n",
    "    xlabel=\"Time of Forecast\",\n",
    "    yscale=\"log\",\n",
    "    yformatter=\"sci\",\n",
    ")\n",
    "ax.legend(ncols=1, framealpha=1)\n",
    "fig.savefig(plotting_dir / \"std_10q.pdf\")"
   ]
  },
  {
   "attachments": {},
   "cell_type": "markdown",
   "metadata": {},
   "source": [
    "## Diagnostic Variables\n",
    "\n",
    "Look at:\n",
    "- cloud cover\n",
    "- boundary layer height\n",
    "- convective flux of $s$, turbulent flux of $s$"
   ]
  },
  {
   "cell_type": "code",
   "execution_count": null,
   "metadata": {},
   "outputs": [],
   "source": [
    "diagvar_forecast_mean = diag_ensemble.sel(time=pd.Timedelta(2, \"D\")).mean(\n",
    "    \"initial_condition\"\n",
    ")\n",
    "diagvar_forecast_mean = diagvar_forecast_mean.assign_coords(\n",
    "    start_date=diagvar_forecast_mean.start_date + diagvar_forecast_mean.time\n",
    ")\n",
    "diagvar_forecast_mean = diagvar_forecast_mean.rename(start_date=\"end_date\")"
   ]
  },
  {
   "cell_type": "code",
   "execution_count": null,
   "metadata": {},
   "outputs": [],
   "source": [
    "diagvar_forecast_std = diag_ensemble.sel(time=pd.Timedelta(2, \"D\")).std(\n",
    "    \"initial_condition\"\n",
    ")\n",
    "diagvar_forecast_std = diagvar_forecast_std.assign_coords(\n",
    "    start_date=diagvar_forecast_std.start_date + diagvar_forecast_std.time\n",
    ")\n",
    "diagvar_forecast_std = diagvar_forecast_std.rename(start_date=\"end_date\")"
   ]
  },
  {
   "attachments": {},
   "cell_type": "markdown",
   "metadata": {},
   "source": [
    "### Cloud Cover"
   ]
  },
  {
   "cell_type": "code",
   "execution_count": null,
   "metadata": {},
   "outputs": [],
   "source": [
    "fig, ax = pplt.subplots(width=\"50em\", height=\"30em\")\n",
    "\n",
    "for i in range(len(colors)):\n",
    "    color = colors[i]\n",
    "    cpl_scheme = cpl_schemes[i]\n",
    "    marker = markers[i]\n",
    "    label = labels[i]\n",
    "    ax.scatter(\n",
    "        diagvar_forecast_mean.total_cloud.sel(coupling_scheme=cpl_scheme),\n",
    "        marker=marker,\n",
    "        label=label,\n",
    "        color=color,\n",
    "    )\n",
    "ax.format(\n",
    "    title=\"Total Cloud Cover after 2 Days\",\n",
    "    ylabel=\"Cloud Cover [-]\",\n",
    "    xlabel=\"Time of Forecast\",\n",
    ")\n",
    "ax.legend(ncols=1, framealpha=1)\n",
    "fig.savefig(plotting_dir / \"mean_total_cloud.pdf\")"
   ]
  },
  {
   "cell_type": "code",
   "execution_count": null,
   "metadata": {},
   "outputs": [],
   "source": [
    "fig, ax = pplt.subplots(width=\"50em\", height=\"30em\")\n",
    "\n",
    "for i in range(len(colors)):\n",
    "    color = colors[i]\n",
    "    cpl_scheme = cpl_schemes[i]\n",
    "    marker = markers[i]\n",
    "    label = labels[i]\n",
    "    ax.scatter(\n",
    "        diagvar_forecast_std.total_cloud.sel(coupling_scheme=cpl_scheme),\n",
    "        marker=marker,\n",
    "        label=label,\n",
    "        color=color,\n",
    "    )\n",
    "ax.format(\n",
    "    title=\"Stddev of Cloud Cover after 2 Days\",\n",
    "    ylabel=\"Cloud Cover [-]\",\n",
    "    xlabel=\"Time of Forecast\",\n",
    "    yscale=\"log\",\n",
    "    yformatter=\"sci\",\n",
    ")\n",
    "ax.legend(ncols=1, framealpha=1)\n",
    "fig.savefig(plotting_dir / \"std_total_cloud.pdf\")"
   ]
  },
  {
   "attachments": {},
   "cell_type": "markdown",
   "metadata": {},
   "source": [
    "### Boundary Layer Height"
   ]
  },
  {
   "cell_type": "code",
   "execution_count": null,
   "metadata": {},
   "outputs": [],
   "source": [
    "fig, ax = pplt.subplots(width=\"50em\", height=\"30em\")\n",
    "\n",
    "for i in range(len(colors)):\n",
    "    color = colors[i]\n",
    "    cpl_scheme = cpl_schemes[i]\n",
    "    marker = markers[i]\n",
    "    label = labels[i]\n",
    "    ax.scatter(\n",
    "        diagvar_forecast_mean.pbl_height.sel(coupling_scheme=cpl_scheme),\n",
    "        marker=marker,\n",
    "        label=label,\n",
    "        color=color,\n",
    "    )\n",
    "ax.format(\n",
    "    title=\"Boundary Layer Height after 2 Days\",\n",
    "    ylabel=\"Boundary Layer Height [m]\",\n",
    "    xlabel=\"Time of Forecast\",\n",
    ")\n",
    "ax.legend(ncols=1, framealpha=1)\n",
    "fig.savefig(plotting_dir / \"mean_pbl_height.pdf\")"
   ]
  },
  {
   "cell_type": "code",
   "execution_count": null,
   "metadata": {},
   "outputs": [],
   "source": [
    "fig, ax = pplt.subplots(width=\"50em\", height=\"30em\")\n",
    "\n",
    "for i in range(len(colors)):\n",
    "    color = colors[i]\n",
    "    cpl_scheme = cpl_schemes[i]\n",
    "    marker = markers[i]\n",
    "    label = labels[i]\n",
    "    ax.scatter(\n",
    "        diagvar_forecast_std.pbl_height.sel(coupling_scheme=cpl_scheme),\n",
    "        marker=marker,\n",
    "        label=label,\n",
    "        color=color,\n",
    "    )\n",
    "ax.format(\n",
    "    title=\"Stddev of Boundary Layer Height after 2 Days\",\n",
    "    ylabel=\"Boundary Layer Height [m]\",\n",
    "    xlabel=\"Time of Forecast\",\n",
    "    yscale=\"log\",\n",
    "    yformatter=\"sci\",\n",
    ")\n",
    "ax.legend(ncols=1, framealpha=1)\n",
    "fig.savefig(plotting_dir / \"std_pbl_height.pdf\")"
   ]
  },
  {
   "attachments": {},
   "cell_type": "markdown",
   "metadata": {},
   "source": [
    "### Turbulent Flux of s"
   ]
  },
  {
   "cell_type": "code",
   "execution_count": null,
   "metadata": {},
   "outputs": [],
   "source": [
    "fig, ax = pplt.subplots(width=\"50em\", height=\"30em\")\n",
    "\n",
    "for i in range(len(colors)):\n",
    "    color = colors[i]\n",
    "    cpl_scheme = cpl_schemes[i]\n",
    "    marker = markers[i]\n",
    "    label = labels[i]\n",
    "    ax.scatter(\n",
    "        diagvar_forecast_mean.turb_flx_s.sel(nlevp1=61, coupling_scheme=cpl_scheme),\n",
    "        marker=marker,\n",
    "        label=label,\n",
    "        color=color,\n",
    "    )\n",
    "ax.format(\n",
    "    title=\"Turbulent Flux of s after 2 Days\",\n",
    "    ylabel=r\"Turbulent Flux of s [$W m^{-2}$]\",\n",
    "    xlabel=\"Time of Forecast\",\n",
    ")\n",
    "ax.legend(ncols=1, framealpha=1)\n",
    "fig.savefig(plotting_dir / \"mean_sfc_turb_flx_s.pdf\")"
   ]
  },
  {
   "cell_type": "code",
   "execution_count": null,
   "metadata": {},
   "outputs": [],
   "source": [
    "fig, ax = pplt.subplots(width=\"50em\", height=\"30em\")\n",
    "\n",
    "for i in range(len(colors)):\n",
    "    color = colors[i]\n",
    "    cpl_scheme = cpl_schemes[i]\n",
    "    marker = markers[i]\n",
    "    label = labels[i]\n",
    "    ax.scatter(\n",
    "        diagvar_forecast_std.turb_flx_s.sel(nlevp1=61, coupling_scheme=cpl_scheme),\n",
    "        marker=marker,\n",
    "        label=label,\n",
    "        color=color,\n",
    "    )\n",
    "ax.format(\n",
    "    title=\"Stddev of Turbulent Flux of s after 2 Days\",\n",
    "    ylabel=r\"Turbulent Flux of s [$W m^{-2}$]\",\n",
    "    xlabel=\"Time of Forecast\",\n",
    "    yscale=\"log\",\n",
    "    yformatter=\"sci\",\n",
    ")\n",
    "ax.legend(ncols=1, framealpha=1)\n",
    "fig.savefig(plotting_dir / \"std_sfc_turb_flx_s.pdf\")"
   ]
  },
  {
   "attachments": {},
   "cell_type": "markdown",
   "metadata": {},
   "source": [
    "### Convective Flux of s"
   ]
  },
  {
   "cell_type": "code",
   "execution_count": null,
   "metadata": {},
   "outputs": [],
   "source": [
    "fig, ax = pplt.subplots(width=\"50em\", height=\"30em\")\n",
    "\n",
    "for i in range(len(colors)):\n",
    "    color = colors[i]\n",
    "    cpl_scheme = cpl_schemes[i]\n",
    "    marker = markers[i]\n",
    "    label = labels[i]\n",
    "    ax.scatter(\n",
    "        diagvar_forecast_mean.conv_flx_s.sel(nlevp1=61, coupling_scheme=cpl_scheme),\n",
    "        marker=marker,\n",
    "        label=label,\n",
    "        color=color,\n",
    "    )\n",
    "ax.format(\n",
    "    title=\"Convective Flux of s after 2 Days\",\n",
    "    ylabel=r\"Turbulent Flux of s [$W m^{-2}$]\",\n",
    "    xlabel=\"Time of Forecast\",\n",
    ")\n",
    "ax.legend(ncols=1, framealpha=1)\n",
    "fig.savefig(plotting_dir / \"mean_sfc_conv_flx_s.pdf\")"
   ]
  },
  {
   "cell_type": "code",
   "execution_count": null,
   "metadata": {},
   "outputs": [],
   "source": [
    "fig, ax = pplt.subplots(width=\"50em\", height=\"30em\")\n",
    "\n",
    "for i in range(len(colors)):\n",
    "    color = colors[i]\n",
    "    cpl_scheme = cpl_schemes[i]\n",
    "    marker = markers[i]\n",
    "    label = labels[i]\n",
    "    ax.scatter(\n",
    "        diagvar_forecast_std.conv_flx_s.sel(nlevp1=61, coupling_scheme=cpl_scheme),\n",
    "        marker=marker,\n",
    "        label=label,\n",
    "        color=color,\n",
    "    )\n",
    "ax.format(\n",
    "    title=\"Stddev of Convective Flux of s after 2 Days\",\n",
    "    ylabel=r\"Turbulent Flux of s [$W m^{-2}$]\",\n",
    "    xlabel=\"Time of Forecast\",\n",
    "    yscale=\"log\",\n",
    "    yformatter=\"sci\",\n",
    ")\n",
    "ax.legend(ncols=1, framealpha=1)\n",
    "fig.savefig(plotting_dir / \"std_sfc_conv_flx_s.pdf\")"
   ]
  },
  {
   "attachments": {},
   "cell_type": "markdown",
   "metadata": {},
   "source": [
    "# NEMO"
   ]
  },
  {
   "cell_type": "code",
   "execution_count": null,
   "metadata": {},
   "outputs": [],
   "source": [
    "nemo_forecast_mean = nemo_ensemble.isel(time=-1).mean(\"initial_condition\")\n",
    "nemo_forecast_mean = nemo_forecast_mean.assign_coords(\n",
    "    start_date=nemo_forecast_mean.start_date + nemo_forecast_mean.time\n",
    ")\n",
    "nemo_forecast_mean = nemo_forecast_mean.rename(start_date=\"end_date\")"
   ]
  },
  {
   "cell_type": "code",
   "execution_count": null,
   "metadata": {},
   "outputs": [],
   "source": [
    "nemo_forecast_std = nemo_ensemble.isel(time=-1).std(\"initial_condition\")\n",
    "nemo_forecast_std = nemo_forecast_std.assign_coords(\n",
    "    start_date=nemo_forecast_std.start_date + nemo_forecast_std.time\n",
    ")\n",
    "nemo_forecast_std = nemo_forecast_std.rename(start_date=\"end_date\")"
   ]
  },
  {
   "cell_type": "code",
   "execution_count": null,
   "metadata": {},
   "outputs": [],
   "source": [
    "fig, ax = pplt.subplots(width=\"50em\", height=\"30em\")\n",
    "\n",
    "for i in range(len(colors)):\n",
    "    color = colors[i]\n",
    "    cpl_scheme = cpl_schemes[i]\n",
    "    marker = markers[i]\n",
    "    label = labels[i]\n",
    "    ax.scatter(\n",
    "        nemo_forecast_mean.sosstsst.sel(coupling_scheme=cpl_scheme),\n",
    "        marker=marker,\n",
    "        label=label,\n",
    "        color=color,\n",
    "    )\n",
    "ax.format(\n",
    "    title=\"Mean Sea Surface Temperature after 2 Days\",\n",
    "    ylabel=\"Temperature [°C]\",\n",
    "    xlabel=\"Time of Forecast\",\n",
    ")\n",
    "ax.legend(ncols=1, framealpha=1)\n",
    "fig.savefig(plotting_dir / \"mean_sst.pdf\")"
   ]
  },
  {
   "cell_type": "code",
   "execution_count": null,
   "metadata": {},
   "outputs": [],
   "source": [
    "fig, ax = pplt.subplots(width=\"50em\", height=\"30em\")\n",
    "\n",
    "\n",
    "for i in range(len(colors)):\n",
    "    color = colors[i]\n",
    "    cpl_scheme = cpl_schemes[i]\n",
    "    marker = markers[i]\n",
    "    label = labels[i]\n",
    "    ax.scatter(\n",
    "        nemo_forecast_std.sosstsst.sel(coupling_scheme=cpl_scheme),\n",
    "        marker=marker,\n",
    "        label=label,\n",
    "        color=color,\n",
    "    )\n",
    "ax.format(\n",
    "    title=\"Stddev of SST after 2 Days\",\n",
    "    ylabel=\"Temperature [°C]\",\n",
    "    xlabel=\"Time of Forecast\",\n",
    "    yscale=\"log\",\n",
    "    yformatter=\"sci\",\n",
    ")\n",
    "ax.legend(ncols=1, framealpha=1)\n",
    "fig.savefig(plotting_dir / \"std_sst.pdf\")"
   ]
  }
 ],
 "metadata": {
  "kernelspec": {
   "display_name": "ecearth",
   "language": "python",
   "name": "python3"
  },
  "language_info": {
   "codemirror_mode": {
    "name": "ipython",
    "version": 3
   },
   "file_extension": ".py",
   "mimetype": "text/x-python",
   "name": "python",
   "nbconvert_exporter": "python",
   "pygments_lexer": "ipython3",
   "version": "3.9.16"
  },
  "vscode": {
   "interpreter": {
    "hash": "7be14c58e8eb3d6c770150f9ae99d58712f64c861ded680e7571663f6a6f0343"
   }
  }
 },
 "nbformat": 4,
 "nbformat_minor": 2
}
