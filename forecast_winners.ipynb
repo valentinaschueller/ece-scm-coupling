{
 "cells": [
  {
   "cell_type": "code",
   "execution_count": null,
   "metadata": {},
   "outputs": [],
   "source": [
    "import xarray as xr\n",
    "import proplot as pplt\n",
    "import pandas as pd\n",
    "import nwp_ensemble as ens\n",
    "from utils.files import OIFSEnsemblePreprocessor, NEMOEnsemblePreprocessor\n",
    "import numpy as np\n",
    "import user_context as context"
   ]
  },
  {
   "cell_type": "code",
   "execution_count": null,
   "metadata": {},
   "outputs": [],
   "source": [
    "oifs_preprocessor = OIFSEnsemblePreprocessor(pd.Timedelta(-7, \"h\"))\n",
    "nemo_preprocessor = NEMOEnsemblePreprocessor(pd.Timedelta(-7, \"h\"))"
   ]
  },
  {
   "cell_type": "code",
   "execution_count": null,
   "metadata": {},
   "outputs": [],
   "source": [
    "plotting_dir = context.plotting_dir / \"ensemble\" / \"forecast_winners\"\n",
    "plotting_dir.mkdir(exist_ok=True)"
   ]
  },
  {
   "cell_type": "code",
   "execution_count": null,
   "metadata": {},
   "outputs": [],
   "source": [
    "experiment_directories = []\n",
    "for date_dir in ens.ensemble_directory.glob(\"*\"):\n",
    "    for init_dir in date_dir.glob(\"*\"):\n",
    "        for experiment_dir in init_dir.glob(\"*\"):\n",
    "            experiment_directories.append(experiment_dir)"
   ]
  },
  {
   "cell_type": "code",
   "execution_count": null,
   "metadata": {},
   "outputs": [],
   "source": [
    "progvars_ensemble = [\n",
    "    experiment_dir / \"progvar.nc\" for experiment_dir in experiment_directories\n",
    "]\n",
    "nemo_t_ensemble = [\n",
    "    next(experiment_dir.glob(\"*_grid_T.nc\"))\n",
    "    for experiment_dir in experiment_directories\n",
    "]"
   ]
  },
  {
   "cell_type": "code",
   "execution_count": null,
   "metadata": {},
   "outputs": [],
   "source": [
    "colors = [\"m\", \"c\", \"y\", \"k\"]\n",
    "cpl_schemes = [\"parallel\", \"atm-first\", \"oce-first\", \"converged SWR\"]\n",
    "labels = [\"parallel\", \"atmosphere-first\", \"ocean-first\", \"converged SWR\"]\n",
    "markers = [\".\", \"x\", \"1\", \"+\"]"
   ]
  },
  {
   "attachments": {},
   "cell_type": "markdown",
   "metadata": {},
   "source": [
    "# OpenIFS"
   ]
  },
  {
   "cell_type": "code",
   "execution_count": null,
   "metadata": {},
   "outputs": [],
   "source": [
    "prog_ensemble = xr.open_mfdataset(\n",
    "    progvars_ensemble, preprocess=oifs_preprocessor.preprocess_ensemble\n",
    ")"
   ]
  },
  {
   "cell_type": "code",
   "execution_count": null,
   "metadata": {},
   "outputs": [],
   "source": [
    "prog_forecast = prog_ensemble.isel(time=-1)\n",
    "prog_forecast = prog_forecast.assign_coords(\n",
    "    start_date=prog_forecast.start_date + prog_forecast.time\n",
    ")\n",
    "prog_forecast = prog_forecast.rename(start_date=\"end_date\")"
   ]
  },
  {
   "cell_type": "code",
   "execution_count": null,
   "metadata": {},
   "outputs": [],
   "source": [
    "prog_forecast_diff = prog_forecast - prog_forecast.sel(coupling_scheme=\"converged SWR\")"
   ]
  },
  {
   "cell_type": "code",
   "execution_count": null,
   "metadata": {},
   "outputs": [],
   "source": [
    "def vector_norm(x, dim, ord=None):\n",
    "    return xr.apply_ufunc(\n",
    "        np.linalg.norm, x, input_core_dims=[[dim]], kwargs={\"ord\": ord, \"axis\": -1}\n",
    "    )"
   ]
  },
  {
   "attachments": {},
   "cell_type": "markdown",
   "metadata": {},
   "source": [
    "## Temperature in Boundary Layer"
   ]
  },
  {
   "cell_type": "code",
   "execution_count": null,
   "metadata": {},
   "outputs": [],
   "source": [
    "t_pbl_diff = prog_forecast_diff.t.sel(nlev=np.arange(51, 61))\n",
    "t_pbl_diff = t_pbl_diff.drop_sel(coupling_scheme=\"converged SWR\")\n",
    "t_pbl_diff_l2 = vector_norm(t_pbl_diff.load(), \"nlev\", 2)\n",
    "argmin_t_pbl_diff = t_pbl_diff_l2.argmin(\"coupling_scheme\")"
   ]
  },
  {
   "cell_type": "code",
   "execution_count": null,
   "metadata": {},
   "outputs": [],
   "source": [
    "t_pbl_diff_l2.coupling_scheme.data"
   ]
  },
  {
   "cell_type": "code",
   "execution_count": null,
   "metadata": {},
   "outputs": [],
   "source": [
    "argmin_t_pbl_diff.groupby(argmin_t_pbl_diff).count().load()"
   ]
  },
  {
   "cell_type": "code",
   "execution_count": null,
   "metadata": {},
   "outputs": [],
   "source": [
    "fig, ax = pplt.subplots(width=\"50em\", height=\"30em\")\n",
    "\n",
    "ims = []\n",
    "im = ax.scatter(\n",
    "    t_pbl_diff_l2.sel(coupling_scheme=\"atm-first\", initial_condition=\"atm\"),\n",
    "    marker=\".\",\n",
    "    label=\"atm-first\",\n",
    "    color=\"c\",\n",
    ")\n",
    "ims.append(im)\n",
    "ax.scatter(\n",
    "    t_pbl_diff_l2.sel(coupling_scheme=\"atm-first\", initial_condition=\"oce\"),\n",
    "    marker=\".\",\n",
    "    color=\"c\",\n",
    ")\n",
    "ax.scatter(\n",
    "    t_pbl_diff_l2.sel(coupling_scheme=\"atm-first\", initial_condition=\"par\"),\n",
    "    marker=\".\",\n",
    "    color=\"c\",\n",
    ")\n",
    "im = ax.scatter(\n",
    "    t_pbl_diff_l2.sel(coupling_scheme=\"oce-first\", initial_condition=\"atm\"),\n",
    "    marker=\".\",\n",
    "    label=\"oce-first\",\n",
    "    color=\"y\",\n",
    ")\n",
    "ims.append(im)\n",
    "ax.scatter(\n",
    "    t_pbl_diff_l2.sel(coupling_scheme=\"oce-first\", initial_condition=\"oce\"),\n",
    "    marker=\".\",\n",
    "    color=\"y\",\n",
    ")\n",
    "ax.scatter(\n",
    "    t_pbl_diff_l2.sel(coupling_scheme=\"oce-first\", initial_condition=\"par\"),\n",
    "    marker=\".\",\n",
    "    color=\"y\",\n",
    ")\n",
    "im = ax.scatter(\n",
    "    t_pbl_diff_l2.sel(coupling_scheme=\"parallel\", initial_condition=\"atm\"),\n",
    "    marker=\".\",\n",
    "    label=\"parallel\",\n",
    "    color=\"m\",\n",
    ")\n",
    "ims.append(im)\n",
    "ax.scatter(\n",
    "    t_pbl_diff_l2.sel(coupling_scheme=\"parallel\", initial_condition=\"oce\"),\n",
    "    marker=\".\",\n",
    "    label=None,\n",
    "    color=\"m\",\n",
    ")\n",
    "ax.scatter(\n",
    "    t_pbl_diff_l2.sel(coupling_scheme=\"parallel\", initial_condition=\"par\"),\n",
    "    marker=\".\",\n",
    "    label=None,\n",
    "    color=\"m\",\n",
    ")\n",
    "ax.format(\n",
    "    title=r\"$||T-T_{{SWR}}||_2$ in Boundary Layer after 2 Days\",\n",
    "    ylabel=\"Temperature [°C]\",\n",
    "    xlabel=\"Time of Forecast\",\n",
    "    xrotation=30,\n",
    ")\n",
    "fig.legend(ims, frame=False, loc=\"b\", ncols=3)\n",
    "fig.savefig(plotting_dir / f\"t_differences.pdf\")"
   ]
  },
  {
   "cell_type": "code",
   "execution_count": null,
   "metadata": {},
   "outputs": [],
   "source": [
    "t_pbl_diff.max().load()"
   ]
  },
  {
   "cell_type": "code",
   "execution_count": null,
   "metadata": {},
   "outputs": [],
   "source": [
    "t_diff_bins = [0, 0.052, 0.52, 1.04, 2.6, 5.2]\n",
    "grouped_t_diffs = t_pbl_diff_l2.groupby_bins(\n",
    "    t_pbl_diff_l2, t_diff_bins, labels=[\"A\", \"B\", \"C\", \"D\", \"E\"]\n",
    ")\n",
    "group_a = [\n",
    "    grouped_t_diffs[\"A\"].sel(coupling_scheme=\"atm-first\").shape[0],\n",
    "    grouped_t_diffs[\"A\"].sel(coupling_scheme=\"oce-first\").shape[0],\n",
    "    grouped_t_diffs[\"A\"].sel(coupling_scheme=\"parallel\").shape[0],\n",
    "]\n",
    "group_b = [\n",
    "    grouped_t_diffs[\"B\"].sel(coupling_scheme=\"atm-first\").shape[0],\n",
    "    grouped_t_diffs[\"B\"].sel(coupling_scheme=\"oce-first\").shape[0],\n",
    "    grouped_t_diffs[\"B\"].sel(coupling_scheme=\"parallel\").shape[0],\n",
    "]\n",
    "group_c = [\n",
    "    grouped_t_diffs[\"C\"].sel(coupling_scheme=\"atm-first\").shape[0],\n",
    "    grouped_t_diffs[\"C\"].sel(coupling_scheme=\"oce-first\").shape[0],\n",
    "    grouped_t_diffs[\"C\"].sel(coupling_scheme=\"parallel\").shape[0],\n",
    "]\n",
    "group_d = [\n",
    "    grouped_t_diffs[\"D\"].sel(coupling_scheme=\"atm-first\").shape[0],\n",
    "    grouped_t_diffs[\"D\"].sel(coupling_scheme=\"oce-first\").shape[0],\n",
    "    grouped_t_diffs[\"D\"].sel(coupling_scheme=\"parallel\").shape[0],\n",
    "]\n",
    "group_e = [\n",
    "    grouped_t_diffs[\"E\"].sel(coupling_scheme=\"atm-first\").shape[0],\n",
    "    grouped_t_diffs[\"E\"].sel(coupling_scheme=\"oce-first\").shape[0],\n",
    "    grouped_t_diffs[\"E\"].sel(coupling_scheme=\"parallel\").shape[0],\n",
    "]\n",
    "\n",
    "array = np.array([group_a, group_b, group_c, group_d, group_e])\n",
    "\n",
    "binned_t_diffs = xr.Dataset(\n",
    "    {\n",
    "        \"t_error\": (\n",
    "            (\"error_range\", \"coupling_scheme\"),\n",
    "            array,\n",
    "        )\n",
    "    },\n",
    "    coords={\n",
    "        \"error_range\": [\"A\", \"B\", \"C\", \"D\", \"E\"],\n",
    "        \"coupling_scheme\": [\"atmosphere-first\", \"ocean-first\", \"parallel\"],\n",
    "    },\n",
    ")"
   ]
  },
  {
   "cell_type": "code",
   "execution_count": null,
   "metadata": {},
   "outputs": [],
   "source": [
    "fig, ax = pplt.subplots(width=\"40em\", height=\"30em\")\n",
    "\n",
    "cycle = pplt.Cycle([\"c\", \"y\", \"m\"])\n",
    "im = ax.bar(binned_t_diffs.t_error, cycle=cycle, width=0.5)\n",
    "ax.format(\n",
    "    xticklabels=[\n",
    "        \"$\\leq 0.01$\",\n",
    "        \"$[0.01, 0.1]$\",\n",
    "        \"$[0.1, 0.2]$\",\n",
    "        \"$[0.2, 0.5]$\",\n",
    "        \"$[0.5, 1]$\",\n",
    "    ],\n",
    "    ylabel=\"Number of Experiments\",\n",
    "    xlabel=\"Relative Error Range\",\n",
    ")\n",
    "fig.legend(im, frame=False, ncols=3, loc=\"b\", title=\"Coupling Scheme\")\n",
    "fig.savefig(plotting_dir / \"t_bar.pdf\")"
   ]
  },
  {
   "cell_type": "code",
   "execution_count": null,
   "metadata": {},
   "outputs": [],
   "source": [
    "max_weighted_t_diff = t_pbl_diff_l2 / t_pbl_diff_l2.max(\"coupling_scheme\")\n",
    "max_weighted_t_diff.mean([\"end_date\", \"initial_condition\"]).load()"
   ]
  },
  {
   "cell_type": "code",
   "execution_count": null,
   "metadata": {},
   "outputs": [],
   "source": [
    "max_weighted_t_diff.median([\"end_date\", \"initial_condition\"]).load()"
   ]
  },
  {
   "cell_type": "code",
   "execution_count": null,
   "metadata": {},
   "outputs": [],
   "source": [
    "max_weighted_t_diff.max([\"end_date\", \"initial_condition\"]).load()"
   ]
  },
  {
   "cell_type": "code",
   "execution_count": null,
   "metadata": {},
   "outputs": [],
   "source": [
    "max_weighted_t_diff.min([\"end_date\", \"initial_condition\"]).load()"
   ]
  },
  {
   "attachments": {},
   "cell_type": "markdown",
   "metadata": {},
   "source": [
    "## Humidity in Boundary Layer"
   ]
  },
  {
   "cell_type": "code",
   "execution_count": null,
   "metadata": {},
   "outputs": [],
   "source": [
    "q_pbl_diff = prog_forecast_diff.q.sel(nlev=np.arange(51, 61)) * 1e3\n",
    "q_pbl_diff = q_pbl_diff.drop_sel(coupling_scheme=\"converged SWR\")\n",
    "q_pbl_diff_l2 = vector_norm(q_pbl_diff.load(), \"nlev\", 2)\n",
    "argmin_q_pbl_diff = q_pbl_diff_l2.argmin(\"coupling_scheme\")"
   ]
  },
  {
   "cell_type": "code",
   "execution_count": null,
   "metadata": {},
   "outputs": [],
   "source": [
    "q_pbl_diff_l2.coupling_scheme.data"
   ]
  },
  {
   "cell_type": "code",
   "execution_count": null,
   "metadata": {},
   "outputs": [],
   "source": [
    "argmin_q_pbl_diff.groupby(argmin_q_pbl_diff).count().load()"
   ]
  },
  {
   "cell_type": "code",
   "execution_count": null,
   "metadata": {},
   "outputs": [],
   "source": [
    "fig, ax = pplt.subplots(width=\"50em\", height=\"30em\")\n",
    "\n",
    "ims = []\n",
    "im = ax.scatter(\n",
    "    q_pbl_diff_l2.sel(coupling_scheme=\"atm-first\", initial_condition=\"atm\"),\n",
    "    marker=\".\",\n",
    "    label=\"atm-first\",\n",
    "    color=\"c\",\n",
    ")\n",
    "ims.append(im)\n",
    "ax.scatter(\n",
    "    q_pbl_diff_l2.sel(coupling_scheme=\"atm-first\", initial_condition=\"oce\"),\n",
    "    marker=\".\",\n",
    "    color=\"c\",\n",
    ")\n",
    "ax.scatter(\n",
    "    q_pbl_diff_l2.sel(coupling_scheme=\"atm-first\", initial_condition=\"par\"),\n",
    "    marker=\".\",\n",
    "    color=\"c\",\n",
    ")\n",
    "im = ax.scatter(\n",
    "    q_pbl_diff_l2.sel(coupling_scheme=\"oce-first\", initial_condition=\"atm\"),\n",
    "    marker=\".\",\n",
    "    label=\"oce-first\",\n",
    "    color=\"y\",\n",
    ")\n",
    "ims.append(im)\n",
    "ax.scatter(\n",
    "    q_pbl_diff_l2.sel(coupling_scheme=\"oce-first\", initial_condition=\"oce\"),\n",
    "    marker=\".\",\n",
    "    color=\"y\",\n",
    ")\n",
    "ax.scatter(\n",
    "    q_pbl_diff_l2.sel(coupling_scheme=\"oce-first\", initial_condition=\"par\"),\n",
    "    marker=\".\",\n",
    "    color=\"y\",\n",
    ")\n",
    "im = ax.scatter(\n",
    "    q_pbl_diff_l2.sel(coupling_scheme=\"parallel\", initial_condition=\"atm\"),\n",
    "    marker=\".\",\n",
    "    label=\"parallel\",\n",
    "    color=\"m\",\n",
    ")\n",
    "ims.append(im)\n",
    "ax.scatter(\n",
    "    q_pbl_diff_l2.sel(coupling_scheme=\"parallel\", initial_condition=\"oce\"),\n",
    "    marker=\".\",\n",
    "    label=None,\n",
    "    color=\"m\",\n",
    ")\n",
    "ax.scatter(\n",
    "    q_pbl_diff_l2.sel(coupling_scheme=\"parallel\", initial_condition=\"par\"),\n",
    "    marker=\".\",\n",
    "    label=None,\n",
    "    color=\"m\",\n",
    ")\n",
    "ax.format(\n",
    "    title=r\"$||q-q_{{SWR}}||_2$ in Boundary Layer after 2 Days\",\n",
    "    ylabel=r\"Humidity $[g \\; kg^{{-1}}]$\",\n",
    "    xlabel=\"Time of Forecast\",\n",
    "    xrotation=30,\n",
    ")\n",
    "fig.legend(ims, frame=False, loc=\"b\", ncols=3)\n",
    "fig.savefig(plotting_dir / \"q_differences.pdf\")"
   ]
  },
  {
   "cell_type": "code",
   "execution_count": null,
   "metadata": {},
   "outputs": [],
   "source": [
    "q_pbl_diff_l2.max().load()"
   ]
  },
  {
   "cell_type": "code",
   "execution_count": null,
   "metadata": {},
   "outputs": [],
   "source": [
    "q_diff_bins = [0, 0.033, 0.33, 0.66, 1.63, 3.3]\n",
    "grouped_q_diffs = q_pbl_diff_l2.groupby_bins(\n",
    "    q_pbl_diff_l2, q_diff_bins, labels=[\"A\", \"B\", \"C\", \"D\", \"E\"]\n",
    ")\n",
    "group_a = [\n",
    "    grouped_q_diffs[\"A\"].sel(coupling_scheme=\"atm-first\").shape[0],\n",
    "    grouped_q_diffs[\"A\"].sel(coupling_scheme=\"oce-first\").shape[0],\n",
    "    grouped_q_diffs[\"A\"].sel(coupling_scheme=\"parallel\").shape[0],\n",
    "]\n",
    "group_b = [\n",
    "    grouped_q_diffs[\"B\"].sel(coupling_scheme=\"atm-first\").shape[0],\n",
    "    grouped_q_diffs[\"B\"].sel(coupling_scheme=\"oce-first\").shape[0],\n",
    "    grouped_q_diffs[\"B\"].sel(coupling_scheme=\"parallel\").shape[0],\n",
    "]\n",
    "group_c = [\n",
    "    grouped_q_diffs[\"C\"].sel(coupling_scheme=\"atm-first\").shape[0],\n",
    "    grouped_q_diffs[\"C\"].sel(coupling_scheme=\"oce-first\").shape[0],\n",
    "    grouped_q_diffs[\"C\"].sel(coupling_scheme=\"parallel\").shape[0],\n",
    "]\n",
    "group_d = [\n",
    "    grouped_q_diffs[\"D\"].sel(coupling_scheme=\"atm-first\").shape[0],\n",
    "    grouped_q_diffs[\"D\"].sel(coupling_scheme=\"oce-first\").shape[0],\n",
    "    grouped_q_diffs[\"D\"].sel(coupling_scheme=\"parallel\").shape[0],\n",
    "]\n",
    "group_e = [\n",
    "    grouped_q_diffs[\"E\"].sel(coupling_scheme=\"atm-first\").shape[0],\n",
    "    grouped_q_diffs[\"E\"].sel(coupling_scheme=\"oce-first\").shape[0],\n",
    "    grouped_q_diffs[\"E\"].sel(coupling_scheme=\"parallel\").shape[0],\n",
    "]\n",
    "\n",
    "array = np.array([group_a, group_b, group_c, group_d, group_e])\n",
    "\n",
    "binned_q_diffs = xr.Dataset(\n",
    "    {\n",
    "        \"q_error\": (\n",
    "            (\"error_range\", \"coupling_scheme\"),\n",
    "            array,\n",
    "        )\n",
    "    },\n",
    "    coords={\n",
    "        \"error_range\": [\"A\", \"B\", \"C\", \"D\", \"E\"],\n",
    "        \"coupling_scheme\": [\"atmosphere-first\", \"ocean-first\", \"parallel\"],\n",
    "    },\n",
    ")"
   ]
  },
  {
   "cell_type": "code",
   "execution_count": null,
   "metadata": {},
   "outputs": [],
   "source": [
    "fig, ax = pplt.subplots(width=\"40em\", height=\"30em\")\n",
    "\n",
    "cycle = pplt.Cycle([\"c\", \"y\", \"m\"])\n",
    "im = ax.bar(binned_q_diffs.q_error, cycle=cycle, width=0.5)\n",
    "ax.format(\n",
    "    xticklabels=[\n",
    "        \"$\\leq 0.01$\",\n",
    "        \"$[0.01, 0.1]$\",\n",
    "        \"$[0.1, 0.2]$\",\n",
    "        \"$[0.2, 0.5]$\",\n",
    "        \"$[0.5, 1]$\",\n",
    "    ],\n",
    "    ylabel=\"Number of Experiments\",\n",
    "    xlabel=\"Relative Error Range\",\n",
    ")\n",
    "fig.legend(im, frame=False, ncols=3, loc=\"b\", title=\"Coupling Scheme\")\n",
    "fig.savefig(plotting_dir / \"q_bar.pdf\")"
   ]
  },
  {
   "cell_type": "code",
   "execution_count": null,
   "metadata": {},
   "outputs": [],
   "source": [
    "max_weighted_q_diff = q_pbl_diff_l2 / q_pbl_diff_l2.max(\"coupling_scheme\")\n",
    "max_weighted_q_diff.mean([\"end_date\", \"initial_condition\"]).load()"
   ]
  },
  {
   "cell_type": "code",
   "execution_count": null,
   "metadata": {},
   "outputs": [],
   "source": [
    "max_weighted_q_diff.median([\"end_date\", \"initial_condition\"]).load()"
   ]
  },
  {
   "cell_type": "code",
   "execution_count": null,
   "metadata": {},
   "outputs": [],
   "source": [
    "max_weighted_q_diff.min([\"end_date\", \"initial_condition\"]).load()"
   ]
  },
  {
   "cell_type": "code",
   "execution_count": null,
   "metadata": {},
   "outputs": [],
   "source": [
    "max_weighted_q_diff.max([\"end_date\", \"initial_condition\"]).load()"
   ]
  },
  {
   "attachments": {},
   "cell_type": "markdown",
   "metadata": {},
   "source": [
    "# NEMO"
   ]
  },
  {
   "cell_type": "code",
   "execution_count": null,
   "metadata": {},
   "outputs": [],
   "source": [
    "nemo_ensemble = xr.open_mfdataset(\n",
    "    nemo_t_ensemble, preprocess=nemo_preprocessor.preprocess_ensemble\n",
    ")"
   ]
  },
  {
   "cell_type": "code",
   "execution_count": null,
   "metadata": {},
   "outputs": [],
   "source": [
    "nemo_forecast = nemo_ensemble.isel(time=-1)\n",
    "nemo_forecast = nemo_forecast.assign_coords(\n",
    "    start_date=nemo_forecast.start_date + nemo_forecast.time\n",
    ")\n",
    "nemo_forecast = nemo_forecast.rename(start_date=\"end_date\")"
   ]
  },
  {
   "cell_type": "code",
   "execution_count": null,
   "metadata": {},
   "outputs": [],
   "source": [
    "sst_diff = np.abs(\n",
    "    nemo_forecast - nemo_forecast.sel(coupling_scheme=\"converged SWR\")\n",
    ").sosstsst\n",
    "sst_diff = sst_diff.drop_sel(coupling_scheme=\"converged SWR\")\n",
    "argmin_sst_diff = sst_diff.argmin(\"coupling_scheme\")"
   ]
  },
  {
   "cell_type": "code",
   "execution_count": null,
   "metadata": {},
   "outputs": [],
   "source": [
    "sst_diff.coupling_scheme.data"
   ]
  },
  {
   "cell_type": "code",
   "execution_count": null,
   "metadata": {},
   "outputs": [],
   "source": [
    "argmin_sst_diff.groupby(argmin_sst_diff).count().load()"
   ]
  },
  {
   "cell_type": "code",
   "execution_count": null,
   "metadata": {},
   "outputs": [],
   "source": [
    "fig, ax = pplt.subplots(width=\"50em\", height=\"30em\")\n",
    "\n",
    "sst_diff.load()\n",
    "ims = []\n",
    "im = ax.scatter(\n",
    "    sst_diff.sel(coupling_scheme=\"atm-first\", initial_condition=\"atm\"),\n",
    "    marker=\".\",\n",
    "    label=\"atm-first\",\n",
    "    color=\"c\",\n",
    ")\n",
    "ims.append(im)\n",
    "ax.scatter(\n",
    "    sst_diff.sel(coupling_scheme=\"atm-first\", initial_condition=\"oce\"),\n",
    "    marker=\".\",\n",
    "    color=\"c\",\n",
    ")\n",
    "ax.scatter(\n",
    "    sst_diff.sel(coupling_scheme=\"atm-first\", initial_condition=\"par\"),\n",
    "    marker=\".\",\n",
    "    color=\"c\",\n",
    ")\n",
    "im = ax.scatter(\n",
    "    sst_diff.sel(coupling_scheme=\"oce-first\", initial_condition=\"atm\"),\n",
    "    marker=\".\",\n",
    "    label=\"oce-first\",\n",
    "    color=\"y\",\n",
    ")\n",
    "ims.append(im)\n",
    "ax.scatter(\n",
    "    sst_diff.sel(coupling_scheme=\"oce-first\", initial_condition=\"oce\"),\n",
    "    marker=\".\",\n",
    "    color=\"y\",\n",
    ")\n",
    "ax.scatter(\n",
    "    sst_diff.sel(coupling_scheme=\"oce-first\", initial_condition=\"par\"),\n",
    "    marker=\".\",\n",
    "    color=\"y\",\n",
    ")\n",
    "im = ax.scatter(\n",
    "    sst_diff.sel(coupling_scheme=\"parallel\", initial_condition=\"atm\"),\n",
    "    marker=\".\",\n",
    "    label=\"parallel\",\n",
    "    color=\"m\",\n",
    ")\n",
    "ims.append(im)\n",
    "ax.scatter(\n",
    "    sst_diff.sel(coupling_scheme=\"parallel\", initial_condition=\"oce\"),\n",
    "    marker=\".\",\n",
    "    label=None,\n",
    "    color=\"m\",\n",
    ")\n",
    "ax.scatter(\n",
    "    sst_diff.sel(coupling_scheme=\"parallel\", initial_condition=\"par\"),\n",
    "    marker=\".\",\n",
    "    label=None,\n",
    "    color=\"m\",\n",
    ")\n",
    "ax.format(\n",
    "    title=\"SST Difference w.r.t. SWR after 2 Days\",\n",
    "    ylabel=\"Temperature [°C]\",\n",
    "    xlabel=\"Time of Forecast\",\n",
    "    xrotation=30,\n",
    ")\n",
    "fig.legend(ims, loc=\"b\", frame=False, ncols=3)\n",
    "fig.savefig(plotting_dir / \"sst_differences.pdf\")"
   ]
  },
  {
   "cell_type": "code",
   "execution_count": null,
   "metadata": {},
   "outputs": [],
   "source": [
    "sst_diff.max().load()"
   ]
  },
  {
   "cell_type": "code",
   "execution_count": null,
   "metadata": {},
   "outputs": [],
   "source": [
    "sst_diff_bins = [0, 0.0027, 0.027, 0.054, 0.136, 0.272]\n",
    "grouped_sst_diffs = sst_diff.groupby_bins(\n",
    "    sst_diff, sst_diff_bins, labels=[\"A\", \"B\", \"C\", \"D\", \"E\"]\n",
    ")\n",
    "group_a = [\n",
    "    grouped_sst_diffs[\"A\"].sel(coupling_scheme=\"atm-first\").shape[0],\n",
    "    grouped_sst_diffs[\"A\"].sel(coupling_scheme=\"oce-first\").shape[0],\n",
    "    grouped_sst_diffs[\"A\"].sel(coupling_scheme=\"parallel\").shape[0],\n",
    "]\n",
    "group_b = [\n",
    "    grouped_sst_diffs[\"B\"].sel(coupling_scheme=\"atm-first\").shape[0],\n",
    "    grouped_sst_diffs[\"B\"].sel(coupling_scheme=\"oce-first\").shape[0],\n",
    "    grouped_sst_diffs[\"B\"].sel(coupling_scheme=\"parallel\").shape[0],\n",
    "]\n",
    "group_c = [\n",
    "    grouped_sst_diffs[\"C\"].sel(coupling_scheme=\"atm-first\").shape[0],\n",
    "    grouped_sst_diffs[\"C\"].sel(coupling_scheme=\"oce-first\").shape[0],\n",
    "    grouped_sst_diffs[\"C\"].sel(coupling_scheme=\"parallel\").shape[0],\n",
    "]\n",
    "group_d = [\n",
    "    grouped_sst_diffs[\"D\"].sel(coupling_scheme=\"atm-first\").shape[0],\n",
    "    grouped_sst_diffs[\"D\"].sel(coupling_scheme=\"oce-first\").shape[0],\n",
    "    grouped_sst_diffs[\"D\"].sel(coupling_scheme=\"parallel\").shape[0],\n",
    "]\n",
    "group_e = [\n",
    "    grouped_sst_diffs[\"E\"].sel(coupling_scheme=\"atm-first\").shape[0],\n",
    "    grouped_sst_diffs[\"E\"].sel(coupling_scheme=\"oce-first\").shape[0],\n",
    "    grouped_sst_diffs[\"E\"].sel(coupling_scheme=\"parallel\").shape[0],\n",
    "]\n",
    "\n",
    "array = np.array([group_a, group_b, group_c, group_d, group_e])\n",
    "\n",
    "binned_sst_diffs = xr.Dataset(\n",
    "    {\n",
    "        \"sst_error\": (\n",
    "            (\"error_range\", \"coupling_scheme\"),\n",
    "            array,\n",
    "        )\n",
    "    },\n",
    "    coords={\n",
    "        \"error_range\": [\"A\", \"B\", \"C\", \"D\", \"E\"],\n",
    "        \"coupling_scheme\": [\"atmosphere-first\", \"ocean-first\", \"parallel\"],\n",
    "    },\n",
    ")"
   ]
  },
  {
   "cell_type": "code",
   "execution_count": null,
   "metadata": {},
   "outputs": [],
   "source": [
    "fig, ax = pplt.subplots(width=\"40em\", height=\"30em\")\n",
    "\n",
    "cycle = pplt.Cycle([\"c\", \"y\", \"m\"])\n",
    "im = ax.bar(binned_sst_diffs.sst_error, cycle=cycle, width=0.5)\n",
    "ax.format(\n",
    "    xticklabels=[\n",
    "        \"$\\leq 0.01$\",\n",
    "        \"$[0.01, 0.1]$\",\n",
    "        \"$[0.1, 0.2]$\",\n",
    "        \"$[0.2, 0.5]$\",\n",
    "        \"$[0.5, 1]$\",\n",
    "    ],\n",
    "    ylabel=\"Number of Experiments\",\n",
    "    xlabel=\"Relative Error Range\",\n",
    ")\n",
    "fig.legend(im, frame=False, ncols=3, loc=\"b\", title=\"Coupling Scheme\")\n",
    "fig.savefig(plotting_dir / \"sst_bar.pdf\")"
   ]
  },
  {
   "cell_type": "code",
   "execution_count": null,
   "metadata": {},
   "outputs": [],
   "source": [
    "max_weighted_sst_diff = sst_diff / sst_diff.max(\"coupling_scheme\")\n",
    "max_weighted_sst_diff.mean([\"end_date\", \"initial_condition\"]).load()"
   ]
  },
  {
   "cell_type": "code",
   "execution_count": null,
   "metadata": {},
   "outputs": [],
   "source": [
    "max_weighted_sst_diff.median([\"end_date\", \"initial_condition\"]).load()"
   ]
  },
  {
   "cell_type": "code",
   "execution_count": null,
   "metadata": {},
   "outputs": [],
   "source": [
    "max_weighted_sst_diff.min([\"end_date\", \"initial_condition\"]).load()"
   ]
  },
  {
   "cell_type": "code",
   "execution_count": null,
   "metadata": {},
   "outputs": [],
   "source": [
    "max_weighted_sst_diff.max([\"end_date\", \"initial_condition\"]).load()"
   ]
  },
  {
   "attachments": {},
   "cell_type": "markdown",
   "metadata": {},
   "source": [
    "# Bar Chart for Thesis"
   ]
  },
  {
   "cell_type": "code",
   "execution_count": null,
   "metadata": {},
   "outputs": [],
   "source": [
    "fig, axs = pplt.subplots(width=\"70em\", height=\"25em\", ncols=3)\n",
    "cycle = pplt.Cycle([\"c\", \"y\", \"m\"])\n",
    "\n",
    "ax = axs[0]\n",
    "im = ax.bar(binned_sst_diffs.sst_error, cycle=cycle, width=0.5)\n",
    "ax.format(\n",
    "    xticklabels=[\n",
    "        \"$\\leq 0.01$\",\n",
    "        \"$[0.01, 0.1]$\",\n",
    "        \"$[0.1, 0.2]$\",\n",
    "        \"$[0.2, 0.5]$\",\n",
    "        \"$[0.5, 1]$\",\n",
    "    ],\n",
    "    ylabel=\"Number of Experiments\",\n",
    "    xlabel=\"Relative Error Range\",\n",
    "    title=\"Sea Surface Temperature\",\n",
    ")\n",
    "\n",
    "ax = axs[1]\n",
    "ax.bar(binned_t_diffs.t_error, cycle=cycle, width=0.5)\n",
    "ax.format(\n",
    "    xticklabels=[\n",
    "        \"$\\leq 0.01$\",\n",
    "        \"$[0.01, 0.1]$\",\n",
    "        \"$[0.1, 0.2]$\",\n",
    "        \"$[0.2, 0.5]$\",\n",
    "        \"$[0.5, 1]$\",\n",
    "    ],\n",
    "    ylabel=\"Number of Experiments\",\n",
    "    xlabel=\"Relative Error Range\",\n",
    "    title=\"Atmospheric Temperature\",\n",
    ")\n",
    "\n",
    "ax = axs[2]\n",
    "ax.bar(binned_q_diffs.q_error, cycle=cycle, width=0.5)\n",
    "ax.format(\n",
    "    xticklabels=[\n",
    "        \"$\\leq 0.01$\",\n",
    "        \"$[0.01, 0.1]$\",\n",
    "        \"$[0.1, 0.2]$\",\n",
    "        \"$[0.2, 0.5]$\",\n",
    "        \"$[0.5, 1]$\",\n",
    "    ],\n",
    "    ylabel=\"Number of Experiments\",\n",
    "    xlabel=\"Relative Error Range\",\n",
    "    title=\"Humidity\",\n",
    ")\n",
    "axs.format(abc=\"a)\")\n",
    "fig.legend(im, frame=False, ncols=3, loc=\"b\", title=\"\")\n",
    "fig.savefig(plotting_dir / \"relative_error_bar.pdf\")"
   ]
  }
 ],
 "metadata": {
  "kernelspec": {
   "display_name": "ecearth",
   "language": "python",
   "name": "python3"
  },
  "language_info": {
   "codemirror_mode": {
    "name": "ipython",
    "version": 3
   },
   "file_extension": ".py",
   "mimetype": "text/x-python",
   "name": "python",
   "nbconvert_exporter": "python",
   "pygments_lexer": "ipython3",
   "version": "3.9.16"
  }
 },
 "nbformat": 4,
 "nbformat_minor": 2
}
