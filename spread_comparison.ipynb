{
 "cells": [
  {
   "cell_type": "code",
   "execution_count": null,
   "metadata": {},
   "outputs": [],
   "source": [
    "import numpy as np\n",
    "import pandas as pd\n",
    "import proplot as pplt\n",
    "import xarray as xr\n",
    "import nwp_ensemble as ens\n",
    "\n",
    "import user_context as context\n",
    "from utils.files import OIFSPreprocessor, OIFSEnsemblePreprocessor"
   ]
  },
  {
   "cell_type": "code",
   "execution_count": null,
   "metadata": {},
   "outputs": [],
   "source": [
    "plotting_dir = context.plotting_dir / \"ensemble\" / \"spread\"\n",
    "plotting_dir.mkdir(exist_ok=True)"
   ]
  },
  {
   "cell_type": "code",
   "execution_count": null,
   "metadata": {},
   "outputs": [],
   "source": [
    "oifs_preprocessor = OIFSPreprocessor(pd.Timestamp(\"2014-07-01\"))"
   ]
  },
  {
   "cell_type": "code",
   "execution_count": null,
   "metadata": {},
   "outputs": [],
   "source": [
    "input_file_par = context.ifs_input_files_dir / \"papa_2014-07_par.nc\"\n",
    "input_file_atm = context.ifs_input_files_dir / \"papa_2014-07_atm.nc\"\n",
    "input_file_oce = context.ifs_input_files_dir / \"papa_2014-07_oce.nc\""
   ]
  },
  {
   "cell_type": "code",
   "execution_count": null,
   "metadata": {},
   "outputs": [],
   "source": [
    "input_par = xr.open_mfdataset(input_file_par, preprocess=oifs_preprocessor.preprocess)\n",
    "input_atm = xr.open_mfdataset(input_file_atm, preprocess=oifs_preprocessor.preprocess)\n",
    "input_oce = xr.open_mfdataset(input_file_oce, preprocess=oifs_preprocessor.preprocess)\n",
    "input_par = input_par.assign_coords(source=\"par\")\n",
    "input_atm = input_atm.assign_coords(source=\"atm\")\n",
    "input_oce = input_oce.assign_coords(source=\"oce\")"
   ]
  },
  {
   "cell_type": "code",
   "execution_count": null,
   "metadata": {},
   "outputs": [],
   "source": [
    "input_atm.height_f.std(\"time\").sel(nlev=51).load()"
   ]
  },
  {
   "cell_type": "code",
   "execution_count": null,
   "metadata": {},
   "outputs": [],
   "source": [
    "input = xr.concat([input_par, input_atm, input_oce], dim=\"source\")"
   ]
  },
  {
   "cell_type": "code",
   "execution_count": null,
   "metadata": {},
   "outputs": [],
   "source": [
    "mean = np.abs(input.mean(\"source\"))\n",
    "std = input.std(\"source\")"
   ]
  },
  {
   "cell_type": "code",
   "execution_count": null,
   "metadata": {},
   "outputs": [],
   "source": [
    "cov = std / mean\n",
    "cov_vsum = cov.sum(\"nlev\")\n",
    "# initial_spread = cov_vsum.u + cov_vsum.t + cov_vsum.v + cov_vsum.q\n",
    "# initial_spread = cov_vsum.t\n",
    "initial_spread = std.sum(\"nlev\").t\n",
    "\n",
    "beginning = pd.date_range(\"2014-07-01 00:00\", \"2014-07-02 18:00\", freq=\"6H\")\n",
    "end = pd.date_range(\"2014-07-29 00:00\", \"2014-07-30 18:00\", freq=\"6H\")\n",
    "initial_spread = initial_spread.drop_sel(time=beginning)\n",
    "initial_spread = initial_spread.drop_sel(time=end)"
   ]
  },
  {
   "cell_type": "code",
   "execution_count": null,
   "metadata": {},
   "outputs": [],
   "source": [
    "fig, ax = pplt.subplots(width=\"50em\", height=\"30em\")\n",
    "\n",
    "initial_spread.load()\n",
    "ax.scatter(initial_spread, marker=\".\", color=\"k\")\n",
    "ax.format(\n",
    "    title=\"Initial Spread of T\",\n",
    "    xlabel=\"Time\",\n",
    "    ylabel=\"Initial Spread [-]\",\n",
    "    xrotation=30,\n",
    "    yformatter=\"sci\",\n",
    "    yscale=\"log\",\n",
    "    ylim=[1e-3, 1e3],\n",
    ")\n",
    "fig.savefig(plotting_dir / \"initial_spread.pdf\")"
   ]
  },
  {
   "cell_type": "code",
   "execution_count": null,
   "metadata": {},
   "outputs": [],
   "source": [
    "print(f\"Mean: {initial_spread.mean('time').data[()]}\")\n",
    "print(f\"Median: {initial_spread.median('time').data[()]}\")\n",
    "print(f\"Max: {initial_spread.max('time').data[()]}\")\n",
    "print(f\"Min: {initial_spread.min('time').data[()]}\")"
   ]
  },
  {
   "cell_type": "code",
   "execution_count": null,
   "metadata": {},
   "outputs": [],
   "source": [
    "initial_spread.groupby_bins(initial_spread, [0, 1, 20]).count()"
   ]
  },
  {
   "attachments": {},
   "cell_type": "markdown",
   "metadata": {},
   "source": [
    "## Final vs. Initial Spread"
   ]
  },
  {
   "cell_type": "code",
   "execution_count": null,
   "metadata": {},
   "outputs": [],
   "source": [
    "oifs_preprocessor = OIFSEnsemblePreprocessor(pd.Timedelta(-7, \"h\"))"
   ]
  },
  {
   "cell_type": "code",
   "execution_count": null,
   "metadata": {},
   "outputs": [],
   "source": [
    "max_iters = ens.max_iters\n",
    "experiment_directories = []\n",
    "for date_dir in ens.ensemble_directory.glob(\"*\"):\n",
    "    for init_dir in date_dir.glob(\"*\"):\n",
    "        for experiment_dir in init_dir.glob(\"*\"):\n",
    "            experiment_directories.append(experiment_dir)\n",
    "progvars_ensemble = [\n",
    "    experiment_dir / \"progvar.nc\" for experiment_dir in experiment_directories\n",
    "]\n",
    "prog_ensemble = xr.open_mfdataset(\n",
    "    progvars_ensemble, preprocess=oifs_preprocessor.preprocess_ensemble\n",
    ")"
   ]
  },
  {
   "cell_type": "code",
   "execution_count": null,
   "metadata": {},
   "outputs": [],
   "source": [
    "progvar_forecast_abs_mean = np.abs(prog_ensemble.sel(time=pd.Timedelta(2, \"D\"))).mean(\n",
    "    \"initial_condition\"\n",
    ")\n",
    "progvar_forecast_std = prog_ensemble.sel(time=pd.Timedelta(2, \"D\")).std(\n",
    "    \"initial_condition\"\n",
    ")"
   ]
  },
  {
   "cell_type": "code",
   "execution_count": null,
   "metadata": {},
   "outputs": [],
   "source": [
    "progvar_forecast_cov = progvar_forecast_std / progvar_forecast_abs_mean\n",
    "cov_vsum = progvar_forecast_cov.sum(\"nlev\")\n",
    "# final_spread = cov_vsum.u + cov_vsum.t + cov_vsum.v + cov_vsum.q\n",
    "# final_spread = cov_vsum.t\n",
    "final_spread = progvar_forecast_std.sum(\"nlev\").t"
   ]
  },
  {
   "cell_type": "code",
   "execution_count": null,
   "metadata": {},
   "outputs": [],
   "source": [
    "initial_spread = initial_spread.assign_coords(time=initial_spread.time.data)\n",
    "initial_spread = initial_spread.assign_coords(\n",
    "    time=initial_spread.time.data + np.timedelta64(-7, \"h\")\n",
    ")\n",
    "initial_spread = initial_spread.rename(time=\"start_date\")\n",
    "\n",
    "spread_ratio = final_spread / initial_spread"
   ]
  },
  {
   "cell_type": "code",
   "execution_count": null,
   "metadata": {},
   "outputs": [],
   "source": [
    "fig, ax = pplt.subplots(width=\"50em\", height=\"30em\")\n",
    "\n",
    "spread_ratio.load()\n",
    "ax.hlines(\n",
    "    y=1,\n",
    "    x1=np.datetime64(\"2014-07-02 00:00\"),\n",
    "    x2=np.datetime64(\"2014-07-29 04:00\"),\n",
    "    color=\"gray\",\n",
    "    ls=\"--\",\n",
    ")\n",
    "ax.scatter(spread_ratio.sel(coupling_scheme=\"parallel\"), color=\"m\", marker=\".\")\n",
    "ax.scatter(spread_ratio.sel(coupling_scheme=\"atm-first\"), color=\"c\", marker=\"x\")\n",
    "ax.scatter(spread_ratio.sel(coupling_scheme=\"oce-first\"), color=\"y\", marker=\"1\")\n",
    "ax.scatter(spread_ratio.sel(coupling_scheme=\"converged SWR\"), color=\"k\", marker=\"+\")\n",
    "ax.format(\n",
    "    title=\"Ratio of Final and Initial Ensemble Spread\",\n",
    "    xlabel=\"Time\",\n",
    "    ylabel=\"Spread Ratio [-]\",\n",
    "    xrotation=30,\n",
    "    yscale=\"log\",\n",
    "    yformatter=\"sci\",\n",
    "    ylim=[1e-3, 1e3],\n",
    ")\n",
    "fig.savefig(plotting_dir / \"spread_ratio.pdf\")"
   ]
  },
  {
   "cell_type": "code",
   "execution_count": null,
   "metadata": {},
   "outputs": [],
   "source": [
    "print(f\"Coupling schemes: {spread_ratio.coupling_scheme.data}\")\n",
    "print(f\"Mean: {spread_ratio.mean('start_date').data}\")\n",
    "print(f\"Median: {spread_ratio.median('start_date').data}\")\n",
    "print(f\"Max: {spread_ratio.max('start_date').data}\")\n",
    "print(f\"Min: {spread_ratio.min('start_date').data}\")"
   ]
  },
  {
   "cell_type": "code",
   "execution_count": null,
   "metadata": {},
   "outputs": [],
   "source": [
    "spread_ratio.groupby_bins(spread_ratio, [0, 1, 45]).count()"
   ]
  },
  {
   "attachments": {},
   "cell_type": "markdown",
   "metadata": {},
   "source": [
    "## Both Plots in One"
   ]
  },
  {
   "cell_type": "code",
   "execution_count": null,
   "metadata": {},
   "outputs": [],
   "source": [
    "fig, axs = pplt.subplots(width=\"70em\", height=\"40em\", nrows=2, spany=False)\n",
    "\n",
    "ax = axs[0]\n",
    "ax.scatter(initial_spread, marker=\".\", color=\"k\")\n",
    "ax.format(\n",
    "    title=\"Initial Spread of T\",\n",
    "    ylabel=\"Initial Spread\",\n",
    ")\n",
    "\n",
    "ax = axs[1]\n",
    "ax.hlines(\n",
    "    y=1,\n",
    "    x1=np.datetime64(\"2014-07-02 00:00\"),\n",
    "    x2=np.datetime64(\"2014-07-29 04:00\"),\n",
    "    color=\"gray\",\n",
    "    ls=\"--\",\n",
    ")\n",
    "ax.scatter(\n",
    "    spread_ratio.sel(coupling_scheme=\"parallel\"),\n",
    "    color=\"m\",\n",
    "    marker=\".\",\n",
    "    label=\"parallel\",\n",
    ")\n",
    "ax.scatter(\n",
    "    spread_ratio.sel(coupling_scheme=\"atm-first\"),\n",
    "    color=\"c\",\n",
    "    marker=\"x\",\n",
    "    label=\"atm-first\",\n",
    ")\n",
    "ax.scatter(\n",
    "    spread_ratio.sel(coupling_scheme=\"oce-first\"),\n",
    "    color=\"y\",\n",
    "    marker=\"1\",\n",
    "    label=\"oce-first\",\n",
    ")\n",
    "ax.scatter(\n",
    "    spread_ratio.sel(coupling_scheme=\"converged SWR\"),\n",
    "    color=\"k\",\n",
    "    marker=\"+\",\n",
    "    label=\"converged SWR\",\n",
    ")\n",
    "ax.format(\n",
    "    title=\"Ratio of Final and Initial Ensemble Spread\",\n",
    "    ylabel=\"Spread Ratio\",\n",
    "    ylim=[1e-1, 1e2],\n",
    ")\n",
    "ax.legend(alpha=1, ncols=4, loc=\"lower right\")\n",
    "\n",
    "axs.format(\n",
    "    xrotation=30,\n",
    "    yscale=\"log\",\n",
    "    yformatter=\"sci\",\n",
    "    abc=\"a)\",\n",
    "    xlabel=\"Time\",\n",
    ")\n",
    "fig.savefig(plotting_dir / \"spread_plots.pdf\")"
   ]
  },
  {
   "attachments": {},
   "cell_type": "markdown",
   "metadata": {},
   "source": [
    "# Which Method Leads to the Smallest Final Spread?"
   ]
  },
  {
   "cell_type": "code",
   "execution_count": null,
   "metadata": {},
   "outputs": [],
   "source": [
    "final_spread.coupling_scheme.data"
   ]
  },
  {
   "cell_type": "code",
   "execution_count": null,
   "metadata": {},
   "outputs": [],
   "source": [
    "argmin_final_spread = final_spread.argmin(\"coupling_scheme\")\n",
    "argmin_final_spread.groupby(argmin_final_spread).count().load()"
   ]
  },
  {
   "attachments": {},
   "cell_type": "markdown",
   "metadata": {},
   "source": [
    "# Which Method Leads to the Smallest Spread Ratio?"
   ]
  },
  {
   "cell_type": "code",
   "execution_count": null,
   "metadata": {},
   "outputs": [],
   "source": [
    "spread_ratio.coupling_scheme.data"
   ]
  },
  {
   "cell_type": "code",
   "execution_count": null,
   "metadata": {},
   "outputs": [],
   "source": [
    "argmin_spread_ratio = spread_ratio.argmin(\"coupling_scheme\")\n",
    "argmin_spread_ratio.groupby(argmin_spread_ratio).count().load()"
   ]
  },
  {
   "cell_type": "code",
   "execution_count": null,
   "metadata": {},
   "outputs": [],
   "source": [
    "relative_spread_ratio = spread_ratio / spread_ratio.max(\"coupling_scheme\")"
   ]
  },
  {
   "cell_type": "code",
   "execution_count": null,
   "metadata": {},
   "outputs": [],
   "source": [
    "relative_spread_ratio.mean(\"start_date\").load()"
   ]
  },
  {
   "cell_type": "code",
   "execution_count": null,
   "metadata": {},
   "outputs": [],
   "source": [
    "relative_spread_ratio.std(\"start_date\").load()"
   ]
  },
  {
   "cell_type": "code",
   "execution_count": null,
   "metadata": {},
   "outputs": [],
   "source": [
    "relative_spread_ratio.median(\"start_date\").load()"
   ]
  },
  {
   "cell_type": "code",
   "execution_count": null,
   "metadata": {},
   "outputs": [],
   "source": [
    "relative_spread_ratio.min(\"start_date\").load()"
   ]
  },
  {
   "cell_type": "code",
   "execution_count": null,
   "metadata": {},
   "outputs": [],
   "source": [
    "relative_spread_ratio.max(\"start_date\").load()"
   ]
  }
 ],
 "metadata": {
  "kernelspec": {
   "display_name": "ecearth",
   "language": "python",
   "name": "python3"
  },
  "language_info": {
   "codemirror_mode": {
    "name": "ipython",
    "version": 3
   },
   "file_extension": ".py",
   "mimetype": "text/x-python",
   "name": "python",
   "nbconvert_exporter": "python",
   "pygments_lexer": "ipython3",
   "version": "3.9.16"
  }
 },
 "nbformat": 4,
 "nbformat_minor": 2
}
