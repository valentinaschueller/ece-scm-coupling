{
 "cells": [
  {
   "cell_type": "code",
   "execution_count": null,
   "metadata": {},
   "outputs": [],
   "source": [
    "from pathlib import Path\n",
    "import numpy as np\n",
    "import proplot as pplt\n",
    "import xarray as xr\n",
    "from plotting import OIFSPreprocessor, NEMOPreprocessor"
   ]
  },
  {
   "cell_type": "code",
   "execution_count": null,
   "metadata": {},
   "outputs": [],
   "source": [
    "oifs_preprocessor = OIFSPreprocessor(\n",
    "    np.datetime64(\"2014-07-01\"), np.timedelta64(-7, \"h\")\n",
    ")\n",
    "nemo_preprocessor = NEMOPreprocessor(np.timedelta64(-7, \"h\"))"
   ]
  },
  {
   "cell_type": "code",
   "execution_count": null,
   "metadata": {},
   "outputs": [],
   "source": [
    "exp_id = \"RAS0\"\n",
    "plot_folder = Path(f\"plots/{exp_id}\")\n",
    "plot_folder.mkdir(exist_ok=True)\n",
    "max_iters = 25\n",
    "alpha = 0.25"
   ]
  },
  {
   "cell_type": "code",
   "execution_count": null,
   "metadata": {},
   "outputs": [],
   "source": [
    "oifs_diagvars = [\n",
    "    xr.open_mfdataset(\n",
    "        f\"PAPA/{exp_id}_{iter}/diagvar.nc\", preprocess=oifs_preprocessor.preprocess\n",
    "    )\n",
    "    for iter in range(1, max_iters + 1)\n",
    "]\n",
    "oifs_progvars = [\n",
    "    xr.open_mfdataset(\n",
    "        f\"PAPA/{exp_id}_{iter}/progvar.nc\", preprocess=oifs_preprocessor.preprocess\n",
    "    )\n",
    "    for iter in range(1, max_iters + 1)\n",
    "]\n",
    "nemo_t_grids = [\n",
    "    xr.open_mfdataset(\n",
    "        f\"PAPA/{exp_id}_{iter}/{exp_id}_*_T.nc\", preprocess=nemo_preprocessor.preprocess\n",
    "    )\n",
    "    for iter in range(1, max_iters + 1)\n",
    "]"
   ]
  },
  {
   "cell_type": "code",
   "execution_count": null,
   "metadata": {},
   "outputs": [],
   "source": [
    "fig, ax = pplt.subplots()\n",
    "fig.set_size_inches(10, 6)\n",
    "for oifs_diagvar in oifs_diagvars[1:]:\n",
    "    ax.plot(oifs_diagvar.sfc_swrad, ls=\"-\", alpha=alpha, color=\"k\")\n",
    "ax.plot(oifs_diagvars[0].sfc_swrad, ls=\"-\", alpha=alpha)\n",
    "ax.format(\n",
    "    title=\"Surface SW Radiation (OIFS)\",\n",
    "    xlabel=\"Time\",\n",
    "    ylabel=\"Radiative Flux $[W m^{-2}]$\",\n",
    ")\n",
    "fig.savefig(f\"plots/{exp_id}/ssw_oifs.pdf\", bbox_inches=\"tight\")\n",
    "pplt.close(fig)"
   ]
  },
  {
   "cell_type": "code",
   "execution_count": null,
   "metadata": {},
   "outputs": [],
   "source": [
    "fig, ax = pplt.subplots()\n",
    "fig.set_size_inches(10, 6)\n",
    "for oifs_progvar in oifs_progvars[1:]:\n",
    "    ax.plot(oifs_progvar.t[:, 59] - 273.15, ls=\"-\", alpha=alpha, color=\"k\")\n",
    "ax.plot(oifs_progvars[0].t[:, 59] - 273.15, ls=\"-\", alpha=alpha)\n",
    "ax.set_title(\"Temperature at 10m (OIFS)\")\n",
    "ax.format(title=\"Temperature at 10m (OIFS)\", xlabel=\"Time\", ylabel=\"Temperature [°C]\")\n",
    "fig.savefig(f\"plots/{exp_id}/10t_oifs.pdf\", bbox_inches=\"tight\")\n",
    "pplt.close(fig)"
   ]
  },
  {
   "cell_type": "code",
   "execution_count": null,
   "metadata": {},
   "outputs": [],
   "source": [
    "oifs_progvar_cvg = oifs_progvars[-1]\n",
    "errors = [\n",
    "    np.linalg.norm((oifs_progvar.t - oifs_progvar_cvg.t).data, ord=np.inf)\n",
    "    for oifs_progvar in oifs_progvars[:-1]\n",
    "]\n",
    "fig, ax = pplt.subplots()\n",
    "fig.set_size_inches(10, 6)\n",
    "x_data = np.arange(1, max_iters)\n",
    "ax.semilogy(x_data, errors, color=\"k\", ls=\"none\", marker=\".\")\n",
    "ax.format(\n",
    "    title=\"Errors in 10m Temperature (OIFS)\",\n",
    "    xlabel=\"Schwarz Iteration\",\n",
    "    ylabel=r\"$||e||_\\infty$\",\n",
    "    xlocator=x_data[::2],\n",
    "    xminorlocator=1,\n",
    ")\n",
    "fig.savefig(\n",
    "    f\"plots/{exp_id}/errors_linf_10t_oifs.pdf\",\n",
    "    bbox_inches=\"tight\",\n",
    ")\n",
    "pplt.close(fig)"
   ]
  },
  {
   "cell_type": "code",
   "execution_count": null,
   "metadata": {},
   "outputs": [],
   "source": [
    "fig, ax = pplt.subplots()\n",
    "fig.set_size_inches(10, 6)\n",
    "for nemo_t_grid in nemo_t_grids[1:]:\n",
    "    ax.plot(nemo_t_grid.sosstsst[:, 1, 1], ls=\"-\", alpha=alpha, color=\"k\")\n",
    "ax.plot(nemo_t_grids[0].sosstsst[:, 1, 1], ls=\"-\", alpha=alpha)\n",
    "ax.format(\n",
    "    title=\"Sea Surface Temperature (NEMO)\", ylabel=\"Temperature [°C]\", xlabel=\"Time\"\n",
    ")\n",
    "fig.savefig(f\"plots/{exp_id}/sst_nemo.pdf\", bbox_inches=\"tight\")\n",
    "pplt.close(fig)"
   ]
  },
  {
   "cell_type": "code",
   "execution_count": null,
   "metadata": {},
   "outputs": [],
   "source": [
    "nemo_t_grid_cvg = nemo_t_grids[-1]\n",
    "errors = [\n",
    "    np.linalg.norm(\n",
    "        (nemo_t_grid.sosstsst[:, 1, 1] - nemo_t_grid_cvg.sosstsst[:, 1, 1]).data,\n",
    "        ord=np.inf,\n",
    "    )\n",
    "    for nemo_t_grid in nemo_t_grids[:-1]\n",
    "]\n",
    "fig, ax = pplt.subplots()\n",
    "fig.set_size_inches(10, 6)\n",
    "x_data = np.arange(1, max_iters)\n",
    "ax.semilogy(x_data, errors, color=\"k\", ls=\"none\", marker=\".\")\n",
    "ax.set_xlabel(\"Schwarz Iteration\")\n",
    "ax.format(\n",
    "    title=\"Errors in SST (NEMO)\",\n",
    "    xlabel=\"Schwarz Iteration\",\n",
    "    ylabel=r\"$||e||_\\infty$\",\n",
    "    xlocator=x_data[::2],\n",
    "    xminorlocator=1,\n",
    ")\n",
    "fig.savefig(\n",
    "    f\"plots/{exp_id}/errors_linf_sst_nemo.pdf\",\n",
    "    bbox_inches=\"tight\",\n",
    ")\n",
    "pplt.close(fig)"
   ]
  },
  {
   "attachments": {},
   "cell_type": "markdown",
   "metadata": {},
   "source": [
    "# Surface SH Flux"
   ]
  },
  {
   "cell_type": "code",
   "execution_count": null,
   "metadata": {},
   "outputs": [],
   "source": [
    "fig, ax = pplt.subplots()\n",
    "fig.set_size_inches(10, 6)\n",
    "for oifs_diagvar in oifs_diagvars[1:]:\n",
    "    ax.plot(oifs_diagvar.sfc_sen_flx, ls=\"-\", alpha=alpha, color=\"k\")\n",
    "ax.plot(oifs_diagvars[0].sfc_sen_flx, ls=\"-\", alpha=alpha)\n",
    "ax.format(\n",
    "    title=\"Surface Sensible Heat Flux (OIFS)\",\n",
    "    xlabel=\"Time\",\n",
    "    ylabel=\"Heat Flux $[W m^{-2}]$\",\n",
    ")\n",
    "fig.savefig(f\"plots/{exp_id}/ssh_oifs.pdf\", bbox_inches=\"tight\")\n",
    "pplt.close(fig)"
   ]
  }
 ],
 "metadata": {
  "kernelspec": {
   "display_name": "Python 3.9.7 ('ecearth')",
   "language": "python",
   "name": "python3"
  },
  "language_info": {
   "codemirror_mode": {
    "name": "ipython",
    "version": 3
   },
   "file_extension": ".py",
   "mimetype": "text/x-python",
   "name": "python",
   "nbconvert_exporter": "python",
   "pygments_lexer": "ipython3",
   "version": "3.9.7"
  },
  "vscode": {
   "interpreter": {
    "hash": "7be14c58e8eb3d6c770150f9ae99d58712f64c861ded680e7571663f6a6f0343"
   }
  }
 },
 "nbformat": 4,
 "nbformat_minor": 2
}
