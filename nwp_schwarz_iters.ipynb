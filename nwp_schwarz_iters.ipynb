{
 "cells": [
  {
   "cell_type": "code",
   "execution_count": null,
   "metadata": {},
   "outputs": [],
   "source": [
    "import proplot as pplt\n",
    "import numpy as np\n",
    "import ruamel.yaml as yaml\n",
    "import xarray as xr\n",
    "\n",
    "import nwp_ensemble as ens\n",
    "import user_context as context"
   ]
  },
  {
   "cell_type": "code",
   "execution_count": null,
   "metadata": {},
   "outputs": [],
   "source": [
    "plotting_dir = context.plotting_dir / \"ensemble\"\n",
    "plotting_dir.mkdir(exist_ok=True)"
   ]
  },
  {
   "cell_type": "code",
   "execution_count": null,
   "metadata": {},
   "outputs": [],
   "source": [
    "schwarz_directories = []\n",
    "for date_dir in ens.ensemble_directory.glob(\"*\"):\n",
    "    for init_dir in date_dir.glob(\"*\"):\n",
    "        schwarz_directories.append(init_dir / \"schwarz\")\n",
    "schwarz_dicts = []\n",
    "for schwarz_dir in schwarz_directories:\n",
    "    with open(schwarz_dir / \"setup_dict.yaml\") as yaml_file:\n",
    "        schwarz_dicts.append(yaml.load(yaml_file, Loader=yaml.Loader))\n",
    "\n",
    "iterations = np.array([schwarz_dict[\"iteration\"] for schwarz_dict in schwarz_dicts])\n",
    "# start_dates = np.array([schwarz_dict[\"run_start_date\"] for schwarz_dict in schwarz_dicts])\n",
    "iterations = xr.DataArray(iterations, name=\"iterations\")"
   ]
  },
  {
   "cell_type": "code",
   "execution_count": null,
   "metadata": {},
   "outputs": [],
   "source": [
    "iteration_count = iterations.groupby(iterations).count()\n",
    "iteration_count.name = \"Iteration Count\"\n",
    "iteration_count = iteration_count.drop_sel(iterations=39)"
   ]
  },
  {
   "cell_type": "code",
   "execution_count": null,
   "metadata": {},
   "outputs": [],
   "source": [
    "fig, ax = pplt.subplots(width=\"40em\", height=\"20em\")\n",
    "ax.bar(iteration_count, absolute_width=True, color=\"k\")\n",
    "ax.format(\n",
    "    xlabel=\"Number of Schwarz Iterations until Convergence\",\n",
    "    ylabel=\"Number of Experiments\",\n",
    "    xlim=[0, 20],\n",
    "    xticks=np.arange(0, 21),\n",
    "    xtickminor=False,\n",
    ")\n",
    "fig.savefig(plotting_dir / \"swr_iteration_count.pdf\")"
   ]
  }
 ],
 "metadata": {
  "kernelspec": {
   "display_name": "ecearth",
   "language": "python",
   "name": "python3"
  },
  "language_info": {
   "codemirror_mode": {
    "name": "ipython",
    "version": 3
   },
   "file_extension": ".py",
   "mimetype": "text/x-python",
   "name": "python",
   "nbconvert_exporter": "python",
   "pygments_lexer": "ipython3",
   "version": "3.9.16"
  }
 },
 "nbformat": 4,
 "nbformat_minor": 2
}
